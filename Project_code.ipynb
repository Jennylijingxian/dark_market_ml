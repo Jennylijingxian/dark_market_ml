{
 "cells": [
  {
   "cell_type": "markdown",
   "metadata": {},
   "source": [
    "# Predicting the Price of Dark Market Cocaine"
   ]
  },
  {
   "cell_type": "markdown",
   "metadata": {},
   "source": [
    "---"
   ]
  },
  {
   "cell_type": "markdown",
   "metadata": {
    "ExecuteTime": {
     "end_time": "2019-12-11T14:37:14.857374Z",
     "start_time": "2019-12-11T14:37:14.853299Z"
    }
   },
   "source": [
    "- In this project we used various machine learning models to predict the bitcoin price of dark market cocaine.  \n",
    "\n",
    "- The dataset is composed of 1504 cleaned and standardized product listings from Dream Market's \"Cocaine\" category. It was collected with web-scraping and text extraction techniques in July 2017.  See the README.md in our Github repository for more information."
   ]
  },
  {
   "cell_type": "markdown",
   "metadata": {
    "toc": true
   },
   "source": [
    "<h1>Table of Contents<span class=\"tocSkip\"></span></h1>\n",
    "<div class=\"toc\"><ul class=\"toc-item\"><li><span><a href=\"#Predicting-the-Price-of-Dark-Market-Cocaine\" data-toc-modified-id=\"Predicting-the-Price-of-Dark-Market-Cocaine-1\">Predicting the Price of Dark Market Cocaine</a></span><ul class=\"toc-item\"><li><span><a href=\"#Group-Name\" data-toc-modified-id=\"Group-Name-1.1\">Group Name</a></span></li><li><span><a href=\"#Student-Names\" data-toc-modified-id=\"Student-Names-1.2\">Student Names</a></span></li><li><span><a href=\"#Load-Data\" data-toc-modified-id=\"Load-Data-1.3\">Load Data</a></span></li><li><span><a href=\"#Data-Cleaning-and-Feature-Engineering\" data-toc-modified-id=\"Data-Cleaning-and-Feature-Engineering-1.4\">Data Cleaning and Feature Engineering</a></span></li><li><span><a href=\"#Data-Visualization\" data-toc-modified-id=\"Data-Visualization-1.5\">Data Visualization</a></span></li><li><span><a href=\"#Modeling\" data-toc-modified-id=\"Modeling-1.6\">Modeling</a></span><ul class=\"toc-item\"><li><span><a href=\"#Initial-Fit-of-Models-&amp;-Cross-Validation-Scores\" data-toc-modified-id=\"Initial-Fit-of-Models-&amp;-Cross-Validation-Scores-1.6.1\">Initial Fit of Models &amp; Cross Validation Scores</a></span></li><li><span><a href=\"#Random-Forest-Random-Search-for-Hyperparameter-Tuning\" data-toc-modified-id=\"Random-Forest-Random-Search-for-Hyperparameter-Tuning-1.6.2\">Random Forest Random Search for Hyperparameter Tuning</a></span></li></ul></li><li><span><a href=\"#Model-Comparison-&amp;-Evaluation-Metrics\" data-toc-modified-id=\"Model-Comparison-&amp;-Evaluation-Metrics-1.7\">Model Comparison &amp; Evaluation Metrics</a></span></li><li><span><a href=\"#Model-Interpretation\" data-toc-modified-id=\"Model-Interpretation-1.8\">Model Interpretation</a></span></li><li><span><a href=\"#Conclusion-&amp;-Summary-of-Results\" data-toc-modified-id=\"Conclusion-&amp;-Summary-of-Results-1.9\">Conclusion &amp; Summary of Results</a></span></li><li><span><a href=\"#Takeasway\" data-toc-modified-id=\"Takeasway-1.10\">Takeasway</a></span></li></ul></li></ul></div>"
   ]
  },
  {
   "cell_type": "markdown",
   "metadata": {},
   "source": [
    "## Group Name\n"
   ]
  },
  {
   "cell_type": "markdown",
   "metadata": {},
   "source": [
    " Random_Forest_Elves\n"
   ]
  },
  {
   "cell_type": "markdown",
   "metadata": {},
   "source": [
    "## Student Names"
   ]
  },
  {
   "cell_type": "markdown",
   "metadata": {},
   "source": [
    "1. Shirley Li\n",
    "2. Jingxian Li \n",
    "3. Michael Schulze\n",
    "4. Mundy Reimer"
   ]
  },
  {
   "cell_type": "markdown",
   "metadata": {},
   "source": [
    "## Load Data"
   ]
  },
  {
   "cell_type": "code",
   "execution_count": 1,
   "metadata": {
    "ExecuteTime": {
     "end_time": "2019-12-11T16:03:01.341864Z",
     "start_time": "2019-12-11T16:03:01.295564Z"
    }
   },
   "outputs": [],
   "source": [
    "reset -fs"
   ]
  },
  {
   "cell_type": "code",
   "execution_count": 2,
   "metadata": {
    "ExecuteTime": {
     "end_time": "2019-12-11T16:03:04.373079Z",
     "start_time": "2019-12-11T16:03:03.376534Z"
    }
   },
   "outputs": [],
   "source": [
    "import pandas as pd\n",
    "import numpy as np\n",
    "\n",
    "from sklearn.pipeline import Pipeline\n",
    "from sklearn.model_selection import train_test_split\n",
    "\n",
    "from sklearn.linear_model import LinearRegression\n",
    "from sklearn.linear_model import Ridge\n",
    "from sklearn.linear_model import Lasso\n",
    "from sklearn.linear_model import LogisticRegression\n",
    "from sklearn.ensemble import RandomForestRegressor\n",
    "\n",
    "\n",
    "from sklearn.metrics import *\n",
    "from sklearn.metrics import mean_squared_error\n",
    "from sklearn.model_selection import cross_val_score, KFold\n",
    "from sklearn.model_selection import GridSearchCV\n",
    "from sklearn.base import BaseEstimator\n",
    "from sklearn.model_selection import RandomizedSearchCV\n",
    "\n",
    "import matplotlib.pyplot as plt "
   ]
  },
  {
   "cell_type": "code",
   "execution_count": 3,
   "metadata": {},
   "outputs": [],
   "source": [
    "url = 'https://raw.githubusercontent.com/mundyreimer/dark_market_ml/master/fixed_cocaine_listings.csv'\n",
    "df = pd.read_csv(url, error_bad_lines=False)"
   ]
  },
  {
   "cell_type": "code",
   "execution_count": 4,
   "metadata": {
    "ExecuteTime": {
     "end_time": "2019-12-11T14:24:17.206056Z",
     "start_time": "2019-12-11T14:24:17.172977Z"
    }
   },
   "outputs": [
    {
     "data": {
      "text/html": [
       "<div>\n",
       "<style scoped>\n",
       "    .dataframe tbody tr th:only-of-type {\n",
       "        vertical-align: middle;\n",
       "    }\n",
       "\n",
       "    .dataframe tbody tr th {\n",
       "        vertical-align: top;\n",
       "    }\n",
       "\n",
       "    .dataframe thead th {\n",
       "        text-align: right;\n",
       "    }\n",
       "</style>\n",
       "<table border=\"1\" class=\"dataframe\">\n",
       "  <thead>\n",
       "    <tr style=\"text-align: right;\">\n",
       "      <th></th>\n",
       "      <th>Unnamed: 0</th>\n",
       "      <th>product_title</th>\n",
       "      <th>ships_from_to</th>\n",
       "      <th>grams</th>\n",
       "      <th>quality</th>\n",
       "      <th>btc_price</th>\n",
       "      <th>cost_per_gram</th>\n",
       "      <th>cost_per_gram_pure</th>\n",
       "      <th>escrow</th>\n",
       "      <th>product_link</th>\n",
       "      <th>...</th>\n",
       "      <th>ships_to_SE</th>\n",
       "      <th>ships_from_SE</th>\n",
       "      <th>ships_to_CO</th>\n",
       "      <th>ships_from_CO</th>\n",
       "      <th>ships_to_CN</th>\n",
       "      <th>ships_from_CN</th>\n",
       "      <th>ships_to_PL</th>\n",
       "      <th>ships_from_PL</th>\n",
       "      <th>ships_to_GR</th>\n",
       "      <th>ships_from_GR</th>\n",
       "    </tr>\n",
       "  </thead>\n",
       "  <tbody>\n",
       "    <tr>\n",
       "      <th>0</th>\n",
       "      <td>2841</td>\n",
       "      <td>5KG Bolivian Cocaine 92%</td>\n",
       "      <td>EU  → EU, WW</td>\n",
       "      <td>5000.0</td>\n",
       "      <td>92.0</td>\n",
       "      <td>51.50</td>\n",
       "      <td>0.010300</td>\n",
       "      <td>0.011196</td>\n",
       "      <td>0</td>\n",
       "      <td>http://lchudifyeqm4ldjj.onion/viewProduct?offe...</td>\n",
       "      <td>...</td>\n",
       "      <td>False</td>\n",
       "      <td>False</td>\n",
       "      <td>False</td>\n",
       "      <td>False</td>\n",
       "      <td>False</td>\n",
       "      <td>False</td>\n",
       "      <td>False</td>\n",
       "      <td>False</td>\n",
       "      <td>False</td>\n",
       "      <td>False</td>\n",
       "    </tr>\n",
       "    <tr>\n",
       "      <th>1</th>\n",
       "      <td>4607</td>\n",
       "      <td>✯3kg FLAKES COCAINE 92% ✯GA✯</td>\n",
       "      <td>NL  → WW, US</td>\n",
       "      <td>3000.0</td>\n",
       "      <td>92.0</td>\n",
       "      <td>43.20</td>\n",
       "      <td>0.014400</td>\n",
       "      <td>0.015652</td>\n",
       "      <td>0</td>\n",
       "      <td>http://lchudifyeqm4ldjj.onion/viewProduct?offe...</td>\n",
       "      <td>...</td>\n",
       "      <td>False</td>\n",
       "      <td>False</td>\n",
       "      <td>False</td>\n",
       "      <td>False</td>\n",
       "      <td>False</td>\n",
       "      <td>False</td>\n",
       "      <td>False</td>\n",
       "      <td>False</td>\n",
       "      <td>False</td>\n",
       "      <td>False</td>\n",
       "    </tr>\n",
       "    <tr>\n",
       "      <th>2</th>\n",
       "      <td>3407</td>\n",
       "      <td>COCAINE - 2 KILOGRAM - COLOMBIAN - 89% PURE</td>\n",
       "      <td>DE  → WW, AU</td>\n",
       "      <td>2000.0</td>\n",
       "      <td>89.0</td>\n",
       "      <td>38.60</td>\n",
       "      <td>0.019300</td>\n",
       "      <td>0.021685</td>\n",
       "      <td>1</td>\n",
       "      <td>http://lchudifyeqm4ldjj.onion/viewProduct?offe...</td>\n",
       "      <td>...</td>\n",
       "      <td>False</td>\n",
       "      <td>False</td>\n",
       "      <td>False</td>\n",
       "      <td>False</td>\n",
       "      <td>False</td>\n",
       "      <td>False</td>\n",
       "      <td>False</td>\n",
       "      <td>False</td>\n",
       "      <td>False</td>\n",
       "      <td>False</td>\n",
       "    </tr>\n",
       "    <tr>\n",
       "      <th>3</th>\n",
       "      <td>2026</td>\n",
       "      <td>2KG Colombian Cocaine 90%</td>\n",
       "      <td>EU  → EU, WW</td>\n",
       "      <td>2000.0</td>\n",
       "      <td>90.0</td>\n",
       "      <td>30.40</td>\n",
       "      <td>0.015200</td>\n",
       "      <td>0.016889</td>\n",
       "      <td>0</td>\n",
       "      <td>http://lchudifyeqm4ldjj.onion/viewProduct?offe...</td>\n",
       "      <td>...</td>\n",
       "      <td>False</td>\n",
       "      <td>False</td>\n",
       "      <td>False</td>\n",
       "      <td>False</td>\n",
       "      <td>False</td>\n",
       "      <td>False</td>\n",
       "      <td>False</td>\n",
       "      <td>False</td>\n",
       "      <td>False</td>\n",
       "      <td>False</td>\n",
       "    </tr>\n",
       "    <tr>\n",
       "      <th>4</th>\n",
       "      <td>4606</td>\n",
       "      <td>✯2kg FLAKES COCAINE 92% ✯GA✯</td>\n",
       "      <td>NL  → WW, US</td>\n",
       "      <td>2000.0</td>\n",
       "      <td>92.0</td>\n",
       "      <td>29.89</td>\n",
       "      <td>0.014945</td>\n",
       "      <td>0.016245</td>\n",
       "      <td>0</td>\n",
       "      <td>http://lchudifyeqm4ldjj.onion/viewProduct?offe...</td>\n",
       "      <td>...</td>\n",
       "      <td>False</td>\n",
       "      <td>False</td>\n",
       "      <td>False</td>\n",
       "      <td>False</td>\n",
       "      <td>False</td>\n",
       "      <td>False</td>\n",
       "      <td>False</td>\n",
       "      <td>False</td>\n",
       "      <td>False</td>\n",
       "      <td>False</td>\n",
       "    </tr>\n",
       "  </tbody>\n",
       "</table>\n",
       "<p>5 rows × 64 columns</p>\n",
       "</div>"
      ],
      "text/plain": [
       "   Unnamed: 0                                product_title ships_from_to  \\\n",
       "0        2841                     5KG Bolivian Cocaine 92%  EU  → EU, WW   \n",
       "1        4607                 ✯3kg FLAKES COCAINE 92% ✯GA✯  NL  → WW, US   \n",
       "2        3407  COCAINE - 2 KILOGRAM - COLOMBIAN - 89% PURE  DE  → WW, AU   \n",
       "3        2026                    2KG Colombian Cocaine 90%  EU  → EU, WW   \n",
       "4        4606                 ✯2kg FLAKES COCAINE 92% ✯GA✯  NL  → WW, US   \n",
       "\n",
       "    grams  quality  btc_price  cost_per_gram  cost_per_gram_pure  escrow  \\\n",
       "0  5000.0     92.0      51.50       0.010300            0.011196       0   \n",
       "1  3000.0     92.0      43.20       0.014400            0.015652       0   \n",
       "2  2000.0     89.0      38.60       0.019300            0.021685       1   \n",
       "3  2000.0     90.0      30.40       0.015200            0.016889       0   \n",
       "4  2000.0     92.0      29.89       0.014945            0.016245       0   \n",
       "\n",
       "                                        product_link  ... ships_to_SE  \\\n",
       "0  http://lchudifyeqm4ldjj.onion/viewProduct?offe...  ...       False   \n",
       "1  http://lchudifyeqm4ldjj.onion/viewProduct?offe...  ...       False   \n",
       "2  http://lchudifyeqm4ldjj.onion/viewProduct?offe...  ...       False   \n",
       "3  http://lchudifyeqm4ldjj.onion/viewProduct?offe...  ...       False   \n",
       "4  http://lchudifyeqm4ldjj.onion/viewProduct?offe...  ...       False   \n",
       "\n",
       "  ships_from_SE  ships_to_CO  ships_from_CO ships_to_CN ships_from_CN  \\\n",
       "0         False        False          False       False         False   \n",
       "1         False        False          False       False         False   \n",
       "2         False        False          False       False         False   \n",
       "3         False        False          False       False         False   \n",
       "4         False        False          False       False         False   \n",
       "\n",
       "   ships_to_PL  ships_from_PL  ships_to_GR  ships_from_GR  \n",
       "0        False          False        False          False  \n",
       "1        False          False        False          False  \n",
       "2        False          False        False          False  \n",
       "3        False          False        False          False  \n",
       "4        False          False        False          False  \n",
       "\n",
       "[5 rows x 64 columns]"
      ]
     },
     "execution_count": 4,
     "metadata": {},
     "output_type": "execute_result"
    }
   ],
   "source": [
    "df.head()"
   ]
  },
  {
   "cell_type": "markdown",
   "metadata": {},
   "source": [
    "## Data Cleaning and Feature Engineering"
   ]
  },
  {
   "cell_type": "markdown",
   "metadata": {},
   "source": [
    "- Data Cleaning\n",
    "    - In this part we checked distribution of data and performed log transformation on the target varible and feature \"grams\" to let them have a normal distribution.\n",
    "    - We transformed True False into 0 and 1.\n",
    "    - We also fixed the mistakes in encoding price schemes resulting from commas and decimals not being uniform in their use across countries.\n",
    "- Feature Engineering\n",
    "    - After clearning the data, we did feature engineering on the data. Initial exploratory data analysis revealed that we could split up our *shipped from-to* column into their individual components from which we then one-hot encoded into their respective categorical variables.\n",
    "    - As we are digging into the price of online cocain in dark market, we also wanted to see if there's some extra information contained in the product title so we extracted keywords and generated new features like shipping, how the product is cut based on that. "
   ]
  },
  {
   "cell_type": "code",
   "execution_count": 5,
   "metadata": {
    "ExecuteTime": {
     "end_time": "2019-12-11T14:48:16.242856Z",
     "start_time": "2019-12-11T14:48:16.203906Z"
    }
   },
   "outputs": [
    {
     "data": {
      "text/html": [
       "<div>\n",
       "<style scoped>\n",
       "    .dataframe tbody tr th:only-of-type {\n",
       "        vertical-align: middle;\n",
       "    }\n",
       "\n",
       "    .dataframe tbody tr th {\n",
       "        vertical-align: top;\n",
       "    }\n",
       "\n",
       "    .dataframe thead th {\n",
       "        text-align: right;\n",
       "    }\n",
       "</style>\n",
       "<table border=\"1\" class=\"dataframe\">\n",
       "  <thead>\n",
       "    <tr style=\"text-align: right;\">\n",
       "      <th></th>\n",
       "      <th>grams</th>\n",
       "      <th>quality</th>\n",
       "      <th>escrow</th>\n",
       "      <th>successful_transactions</th>\n",
       "      <th>rating</th>\n",
       "      <th>ships_to_US</th>\n",
       "      <th>ships_from_US</th>\n",
       "      <th>ships_to_NL</th>\n",
       "      <th>ships_from_NL</th>\n",
       "      <th>ships_to_FR</th>\n",
       "      <th>...</th>\n",
       "      <th>ships_from_AU</th>\n",
       "      <th>ships_to_EU</th>\n",
       "      <th>ships_from_EU</th>\n",
       "      <th>ships_from_ES</th>\n",
       "      <th>ships_to_N. America</th>\n",
       "      <th>ships_from_BE</th>\n",
       "      <th>ships_from_WW</th>\n",
       "      <th>ships_to_SI</th>\n",
       "      <th>ships_from_IT</th>\n",
       "      <th>ships_from_BR</th>\n",
       "    </tr>\n",
       "  </thead>\n",
       "  <tbody>\n",
       "    <tr>\n",
       "      <th>0</th>\n",
       "      <td>8.517193</td>\n",
       "      <td>92.0</td>\n",
       "      <td>0</td>\n",
       "      <td>100</td>\n",
       "      <td>4.96</td>\n",
       "      <td>0</td>\n",
       "      <td>0</td>\n",
       "      <td>0</td>\n",
       "      <td>0</td>\n",
       "      <td>0</td>\n",
       "      <td>...</td>\n",
       "      <td>0</td>\n",
       "      <td>1</td>\n",
       "      <td>1</td>\n",
       "      <td>0</td>\n",
       "      <td>0</td>\n",
       "      <td>0</td>\n",
       "      <td>0</td>\n",
       "      <td>0</td>\n",
       "      <td>0</td>\n",
       "      <td>0</td>\n",
       "    </tr>\n",
       "    <tr>\n",
       "      <th>1</th>\n",
       "      <td>8.006368</td>\n",
       "      <td>92.0</td>\n",
       "      <td>0</td>\n",
       "      <td>360</td>\n",
       "      <td>4.86</td>\n",
       "      <td>1</td>\n",
       "      <td>0</td>\n",
       "      <td>0</td>\n",
       "      <td>1</td>\n",
       "      <td>0</td>\n",
       "      <td>...</td>\n",
       "      <td>0</td>\n",
       "      <td>0</td>\n",
       "      <td>0</td>\n",
       "      <td>0</td>\n",
       "      <td>0</td>\n",
       "      <td>0</td>\n",
       "      <td>0</td>\n",
       "      <td>0</td>\n",
       "      <td>0</td>\n",
       "      <td>0</td>\n",
       "    </tr>\n",
       "    <tr>\n",
       "      <th>2</th>\n",
       "      <td>7.600902</td>\n",
       "      <td>89.0</td>\n",
       "      <td>1</td>\n",
       "      <td>70</td>\n",
       "      <td>5.00</td>\n",
       "      <td>0</td>\n",
       "      <td>0</td>\n",
       "      <td>0</td>\n",
       "      <td>0</td>\n",
       "      <td>0</td>\n",
       "      <td>...</td>\n",
       "      <td>0</td>\n",
       "      <td>0</td>\n",
       "      <td>0</td>\n",
       "      <td>0</td>\n",
       "      <td>0</td>\n",
       "      <td>0</td>\n",
       "      <td>0</td>\n",
       "      <td>0</td>\n",
       "      <td>0</td>\n",
       "      <td>0</td>\n",
       "    </tr>\n",
       "    <tr>\n",
       "      <th>3</th>\n",
       "      <td>7.600902</td>\n",
       "      <td>90.0</td>\n",
       "      <td>0</td>\n",
       "      <td>100</td>\n",
       "      <td>4.96</td>\n",
       "      <td>0</td>\n",
       "      <td>0</td>\n",
       "      <td>0</td>\n",
       "      <td>0</td>\n",
       "      <td>0</td>\n",
       "      <td>...</td>\n",
       "      <td>0</td>\n",
       "      <td>1</td>\n",
       "      <td>1</td>\n",
       "      <td>0</td>\n",
       "      <td>0</td>\n",
       "      <td>0</td>\n",
       "      <td>0</td>\n",
       "      <td>0</td>\n",
       "      <td>0</td>\n",
       "      <td>0</td>\n",
       "    </tr>\n",
       "    <tr>\n",
       "      <th>4</th>\n",
       "      <td>7.600902</td>\n",
       "      <td>92.0</td>\n",
       "      <td>0</td>\n",
       "      <td>360</td>\n",
       "      <td>4.86</td>\n",
       "      <td>1</td>\n",
       "      <td>0</td>\n",
       "      <td>0</td>\n",
       "      <td>1</td>\n",
       "      <td>0</td>\n",
       "      <td>...</td>\n",
       "      <td>0</td>\n",
       "      <td>0</td>\n",
       "      <td>0</td>\n",
       "      <td>0</td>\n",
       "      <td>0</td>\n",
       "      <td>0</td>\n",
       "      <td>0</td>\n",
       "      <td>0</td>\n",
       "      <td>0</td>\n",
       "      <td>0</td>\n",
       "    </tr>\n",
       "  </tbody>\n",
       "</table>\n",
       "<p>5 rows × 27 columns</p>\n",
       "</div>"
      ],
      "text/plain": [
       "      grams  quality  escrow  successful_transactions  rating  ships_to_US  \\\n",
       "0  8.517193     92.0       0                      100    4.96            0   \n",
       "1  8.006368     92.0       0                      360    4.86            1   \n",
       "2  7.600902     89.0       1                       70    5.00            0   \n",
       "3  7.600902     90.0       0                      100    4.96            0   \n",
       "4  7.600902     92.0       0                      360    4.86            1   \n",
       "\n",
       "   ships_from_US  ships_to_NL  ships_from_NL  ships_to_FR  ...  ships_from_AU  \\\n",
       "0              0            0              0            0  ...              0   \n",
       "1              0            0              1            0  ...              0   \n",
       "2              0            0              0            0  ...              0   \n",
       "3              0            0              0            0  ...              0   \n",
       "4              0            0              1            0  ...              0   \n",
       "\n",
       "   ships_to_EU  ships_from_EU  ships_from_ES  ships_to_N. America  \\\n",
       "0            1              1              0                    0   \n",
       "1            0              0              0                    0   \n",
       "2            0              0              0                    0   \n",
       "3            1              1              0                    0   \n",
       "4            0              0              0                    0   \n",
       "\n",
       "   ships_from_BE  ships_from_WW  ships_to_SI  ships_from_IT  ships_from_BR  \n",
       "0              0              0            0              0              0  \n",
       "1              0              0            0              0              0  \n",
       "2              0              0            0              0              0  \n",
       "3              0              0            0              0              0  \n",
       "4              0              0            0              0              0  \n",
       "\n",
       "[5 rows x 27 columns]"
      ]
     },
     "execution_count": 5,
     "metadata": {},
     "output_type": "execute_result"
    }
   ],
   "source": [
    "# Split predictors & response variables, \n",
    "# do log transformation on grams, \n",
    "# and convert all True-False to 1s and 0s.\n",
    "\n",
    "y = df.btc_price\n",
    "df_b = df.drop(\"btc_price\", axis=1)\n",
    "df_b = df_b.drop([\"cost_per_gram_pure\", \"Unnamed: 0\", \"product_title\", \"ships_from_to\", \"cost_per_gram\",\n",
    "                    \"product_link\", \"vendor_link\", \"vendor_name\", \"ships_from\", \"ships_to\", \n",
    "                    \"ships_to_GR\", \"ships_from_GR\", \"ships_to_PL\", \"ships_from_PL\", \"ships_to_CO\", \n",
    "                    \"ships_from_CO\", \"ships_to_SE\", \"ships_from_SE\", \"ships_to_S. America\", \n",
    "                    \"ships_from_S. America\", \"ships_from_DK\", \"ships_to_DK\", \"ships_to_CN\", \"ships_to_CZ\", \n",
    "                    \"ships_to_BR\", \"ships_to_IT\", \"ships_from_SI\", \"ships_to_BE\", \"ships_from_N. America\", \n",
    "                    \"ships_to_ES\", \"ships_to_CH\", \"ships_from_CH\", \"ships_from_CZ\", \"ships_from_CN\", \n",
    "                    \"ships_to_WW\", \"ships_to_DE\"], axis=1)\n",
    "\n",
    "df_b = df_b * 1\n",
    "df_b[\"grams\"] = np.log(df_b[\"grams\"])\n",
    "y = np.log(y)\n",
    "\n",
    "df_b.head()"
   ]
  },
  {
   "cell_type": "code",
   "execution_count": 6,
   "metadata": {
    "ExecuteTime": {
     "end_time": "2019-12-11T14:24:20.649350Z",
     "start_time": "2019-12-11T14:24:20.412997Z"
    }
   },
   "outputs": [
    {
     "data": {
      "text/html": [
       "<div>\n",
       "<style scoped>\n",
       "    .dataframe tbody tr th:only-of-type {\n",
       "        vertical-align: middle;\n",
       "    }\n",
       "\n",
       "    .dataframe tbody tr th {\n",
       "        vertical-align: top;\n",
       "    }\n",
       "\n",
       "    .dataframe thead th {\n",
       "        text-align: right;\n",
       "    }\n",
       "</style>\n",
       "<table border=\"1\" class=\"dataframe\">\n",
       "  <thead>\n",
       "    <tr style=\"text-align: right;\">\n",
       "      <th></th>\n",
       "      <th>grams</th>\n",
       "      <th>quality</th>\n",
       "      <th>escrow</th>\n",
       "      <th>successful_transactions</th>\n",
       "      <th>rating</th>\n",
       "      <th>ships_to_US</th>\n",
       "      <th>ships_from_US</th>\n",
       "      <th>ships_to_NL</th>\n",
       "      <th>ships_from_NL</th>\n",
       "      <th>ships_to_FR</th>\n",
       "      <th>...</th>\n",
       "      <th>bolivia</th>\n",
       "      <th>free_ship</th>\n",
       "      <th>uncut</th>\n",
       "      <th>fishcut</th>\n",
       "      <th>brick</th>\n",
       "      <th>crack</th>\n",
       "      <th>crystal</th>\n",
       "      <th>flake</th>\n",
       "      <th>pure</th>\n",
       "      <th>caps</th>\n",
       "    </tr>\n",
       "  </thead>\n",
       "  <tbody>\n",
       "    <tr>\n",
       "      <th>0</th>\n",
       "      <td>8.517193</td>\n",
       "      <td>92.0</td>\n",
       "      <td>0</td>\n",
       "      <td>100</td>\n",
       "      <td>4.96</td>\n",
       "      <td>0</td>\n",
       "      <td>0</td>\n",
       "      <td>0</td>\n",
       "      <td>0</td>\n",
       "      <td>0</td>\n",
       "      <td>...</td>\n",
       "      <td>1.0</td>\n",
       "      <td>0.0</td>\n",
       "      <td>0.0</td>\n",
       "      <td>0.0</td>\n",
       "      <td>0.0</td>\n",
       "      <td>0.0</td>\n",
       "      <td>0.0</td>\n",
       "      <td>0.0</td>\n",
       "      <td>0.0</td>\n",
       "      <td>0.166667</td>\n",
       "    </tr>\n",
       "    <tr>\n",
       "      <th>1</th>\n",
       "      <td>8.006368</td>\n",
       "      <td>92.0</td>\n",
       "      <td>0</td>\n",
       "      <td>360</td>\n",
       "      <td>4.86</td>\n",
       "      <td>1</td>\n",
       "      <td>0</td>\n",
       "      <td>0</td>\n",
       "      <td>1</td>\n",
       "      <td>0</td>\n",
       "      <td>...</td>\n",
       "      <td>0.0</td>\n",
       "      <td>0.0</td>\n",
       "      <td>0.0</td>\n",
       "      <td>0.0</td>\n",
       "      <td>0.0</td>\n",
       "      <td>0.0</td>\n",
       "      <td>0.0</td>\n",
       "      <td>1.0</td>\n",
       "      <td>0.0</td>\n",
       "      <td>0.535714</td>\n",
       "    </tr>\n",
       "    <tr>\n",
       "      <th>2</th>\n",
       "      <td>7.600902</td>\n",
       "      <td>89.0</td>\n",
       "      <td>1</td>\n",
       "      <td>70</td>\n",
       "      <td>5.00</td>\n",
       "      <td>0</td>\n",
       "      <td>0</td>\n",
       "      <td>0</td>\n",
       "      <td>0</td>\n",
       "      <td>0</td>\n",
       "      <td>...</td>\n",
       "      <td>0.0</td>\n",
       "      <td>0.0</td>\n",
       "      <td>0.0</td>\n",
       "      <td>0.0</td>\n",
       "      <td>0.0</td>\n",
       "      <td>0.0</td>\n",
       "      <td>0.0</td>\n",
       "      <td>0.0</td>\n",
       "      <td>1.0</td>\n",
       "      <td>0.651163</td>\n",
       "    </tr>\n",
       "    <tr>\n",
       "      <th>3</th>\n",
       "      <td>7.600902</td>\n",
       "      <td>90.0</td>\n",
       "      <td>0</td>\n",
       "      <td>100</td>\n",
       "      <td>4.96</td>\n",
       "      <td>0</td>\n",
       "      <td>0</td>\n",
       "      <td>0</td>\n",
       "      <td>0</td>\n",
       "      <td>0</td>\n",
       "      <td>...</td>\n",
       "      <td>0.0</td>\n",
       "      <td>0.0</td>\n",
       "      <td>0.0</td>\n",
       "      <td>0.0</td>\n",
       "      <td>0.0</td>\n",
       "      <td>0.0</td>\n",
       "      <td>0.0</td>\n",
       "      <td>0.0</td>\n",
       "      <td>0.0</td>\n",
       "      <td>0.160000</td>\n",
       "    </tr>\n",
       "    <tr>\n",
       "      <th>4</th>\n",
       "      <td>7.600902</td>\n",
       "      <td>92.0</td>\n",
       "      <td>0</td>\n",
       "      <td>360</td>\n",
       "      <td>4.86</td>\n",
       "      <td>1</td>\n",
       "      <td>0</td>\n",
       "      <td>0</td>\n",
       "      <td>1</td>\n",
       "      <td>0</td>\n",
       "      <td>...</td>\n",
       "      <td>0.0</td>\n",
       "      <td>0.0</td>\n",
       "      <td>0.0</td>\n",
       "      <td>0.0</td>\n",
       "      <td>0.0</td>\n",
       "      <td>0.0</td>\n",
       "      <td>0.0</td>\n",
       "      <td>1.0</td>\n",
       "      <td>0.0</td>\n",
       "      <td>0.535714</td>\n",
       "    </tr>\n",
       "  </tbody>\n",
       "</table>\n",
       "<p>5 rows × 40 columns</p>\n",
       "</div>"
      ],
      "text/plain": [
       "      grams  quality  escrow  successful_transactions  rating  ships_to_US  \\\n",
       "0  8.517193     92.0       0                      100    4.96            0   \n",
       "1  8.006368     92.0       0                      360    4.86            1   \n",
       "2  7.600902     89.0       1                       70    5.00            0   \n",
       "3  7.600902     90.0       0                      100    4.96            0   \n",
       "4  7.600902     92.0       0                      360    4.86            1   \n",
       "\n",
       "   ships_from_US  ships_to_NL  ships_from_NL  ships_to_FR  ...  bolivia  \\\n",
       "0              0            0              0            0  ...      1.0   \n",
       "1              0            0              1            0  ...      0.0   \n",
       "2              0            0              0            0  ...      0.0   \n",
       "3              0            0              0            0  ...      0.0   \n",
       "4              0            0              1            0  ...      0.0   \n",
       "\n",
       "   free_ship  uncut  fishcut  brick  crack  crystal  flake  pure      caps  \n",
       "0        0.0    0.0      0.0    0.0    0.0      0.0    0.0   0.0  0.166667  \n",
       "1        0.0    0.0      0.0    0.0    0.0      0.0    1.0   0.0  0.535714  \n",
       "2        0.0    0.0      0.0    0.0    0.0      0.0    0.0   1.0  0.651163  \n",
       "3        0.0    0.0      0.0    0.0    0.0      0.0    0.0   0.0  0.160000  \n",
       "4        0.0    0.0      0.0    0.0    0.0      0.0    1.0   0.0  0.535714  \n",
       "\n",
       "[5 rows x 40 columns]"
      ]
     },
     "execution_count": 6,
     "metadata": {},
     "output_type": "execute_result"
    }
   ],
   "source": [
    "# Extract key words from product title for feature engineering\n",
    "\n",
    "my_regex = {\"intro\": \"intro|sample\",\n",
    "           \"columbia\": \"columbia\",\n",
    "           \"peru\": \"peru\",\n",
    "           \"bolivia\": \"bolivia\",\n",
    "           \"free_ship\": \"freeship\",\n",
    "           \"uncut\": \"uncut\",\n",
    "           \"fishcut\": \"fish\",\n",
    "           \"brick\": \"brick\",\n",
    "           \"crack\": \"crack\",\n",
    "           \"crystal\": \"crystal\",\n",
    "           \"flake\": \"flake\",\n",
    "           \"pure\": \"pure\"}\n",
    "\n",
    "for my_key in my_regex.keys():\n",
    "    df_b.loc[df.product_title.str.replace(\"\\s\", \"\")\\\n",
    "                                .str.lower()\n",
    "                                .str.contains(my_regex[my_key]), my_key] = 1\n",
    "    df_b.loc[~df.product_title.str.replace(\"\\s\", \"\")\\\n",
    "                                .str.lower()\n",
    "                                .str.contains(my_regex[my_key]), my_key] = 0\n",
    "\n",
    "\n",
    "df_b[\"caps\"] = df.product_title.str.findall(r'[A-Z]').str.len()/df.product_title.str.len()\n",
    "\n",
    "df_b.head()"
   ]
  },
  {
   "cell_type": "code",
   "execution_count": 7,
   "metadata": {},
   "outputs": [],
   "source": [
    "# Train test split\n",
    "X_train, X_test, y_train, y_test = train_test_split(df_b, y, test_size=0.2,shuffle = True)"
   ]
  },
  {
   "cell_type": "markdown",
   "metadata": {},
   "source": [
    "## Data Visualization"
   ]
  },
  {
   "cell_type": "markdown",
   "metadata": {},
   "source": [
    "- In the visualization part, we did visualization on numerical data and categorical data seperately.\n",
    "- For numerical data, we plot cocain origin against mean price, as origin is shown to be important features.\n",
    "- For categorical data, we plot their value against price to have a initial understanding of how binary features influence target."
   ]
  },
  {
   "cell_type": "code",
   "execution_count": 8,
   "metadata": {},
   "outputs": [
    {
     "data": {
      "text/html": [
       "<div>\n",
       "<style scoped>\n",
       "    .dataframe tbody tr th:only-of-type {\n",
       "        vertical-align: middle;\n",
       "    }\n",
       "\n",
       "    .dataframe tbody tr th {\n",
       "        vertical-align: top;\n",
       "    }\n",
       "\n",
       "    .dataframe thead th {\n",
       "        text-align: right;\n",
       "    }\n",
       "</style>\n",
       "<table border=\"1\" class=\"dataframe\">\n",
       "  <thead>\n",
       "    <tr style=\"text-align: right;\">\n",
       "      <th></th>\n",
       "      <th>ship_from</th>\n",
       "      <th>mean</th>\n",
       "      <th>count</th>\n",
       "      <th>count_less_than_5</th>\n",
       "    </tr>\n",
       "  </thead>\n",
       "  <tbody>\n",
       "    <tr>\n",
       "      <th>5</th>\n",
       "      <td>CN</td>\n",
       "      <td>3.350000</td>\n",
       "      <td>1</td>\n",
       "      <td>Yes</td>\n",
       "    </tr>\n",
       "    <tr>\n",
       "      <th>9</th>\n",
       "      <td>EU</td>\n",
       "      <td>3.019201</td>\n",
       "      <td>72</td>\n",
       "      <td>No</td>\n",
       "    </tr>\n",
       "    <tr>\n",
       "      <th>13</th>\n",
       "      <td>NL</td>\n",
       "      <td>1.590375</td>\n",
       "      <td>496</td>\n",
       "      <td>No</td>\n",
       "    </tr>\n",
       "    <tr>\n",
       "      <th>7</th>\n",
       "      <td>DE</td>\n",
       "      <td>1.190882</td>\n",
       "      <td>376</td>\n",
       "      <td>No</td>\n",
       "    </tr>\n",
       "    <tr>\n",
       "      <th>15</th>\n",
       "      <td>US</td>\n",
       "      <td>0.903358</td>\n",
       "      <td>112</td>\n",
       "      <td>No</td>\n",
       "    </tr>\n",
       "    <tr>\n",
       "      <th>12</th>\n",
       "      <td>IT</td>\n",
       "      <td>0.738067</td>\n",
       "      <td>7</td>\n",
       "      <td>No</td>\n",
       "    </tr>\n",
       "    <tr>\n",
       "      <th>0</th>\n",
       "      <td>AU</td>\n",
       "      <td>0.729898</td>\n",
       "      <td>40</td>\n",
       "      <td>No</td>\n",
       "    </tr>\n",
       "    <tr>\n",
       "      <th>10</th>\n",
       "      <td>FR</td>\n",
       "      <td>0.633551</td>\n",
       "      <td>70</td>\n",
       "      <td>No</td>\n",
       "    </tr>\n",
       "    <tr>\n",
       "      <th>16</th>\n",
       "      <td>WW</td>\n",
       "      <td>0.366559</td>\n",
       "      <td>16</td>\n",
       "      <td>No</td>\n",
       "    </tr>\n",
       "    <tr>\n",
       "      <th>3</th>\n",
       "      <td>CA</td>\n",
       "      <td>0.339558</td>\n",
       "      <td>19</td>\n",
       "      <td>No</td>\n",
       "    </tr>\n",
       "    <tr>\n",
       "      <th>6</th>\n",
       "      <td>CZ</td>\n",
       "      <td>0.334000</td>\n",
       "      <td>1</td>\n",
       "      <td>Yes</td>\n",
       "    </tr>\n",
       "    <tr>\n",
       "      <th>11</th>\n",
       "      <td>GB</td>\n",
       "      <td>0.272292</td>\n",
       "      <td>251</td>\n",
       "      <td>No</td>\n",
       "    </tr>\n",
       "    <tr>\n",
       "      <th>1</th>\n",
       "      <td>BE</td>\n",
       "      <td>0.240792</td>\n",
       "      <td>25</td>\n",
       "      <td>No</td>\n",
       "    </tr>\n",
       "    <tr>\n",
       "      <th>2</th>\n",
       "      <td>BR</td>\n",
       "      <td>0.153846</td>\n",
       "      <td>5</td>\n",
       "      <td>No</td>\n",
       "    </tr>\n",
       "    <tr>\n",
       "      <th>8</th>\n",
       "      <td>ES</td>\n",
       "      <td>0.073071</td>\n",
       "      <td>11</td>\n",
       "      <td>No</td>\n",
       "    </tr>\n",
       "    <tr>\n",
       "      <th>4</th>\n",
       "      <td>CH</td>\n",
       "      <td>0.053800</td>\n",
       "      <td>1</td>\n",
       "      <td>Yes</td>\n",
       "    </tr>\n",
       "    <tr>\n",
       "      <th>14</th>\n",
       "      <td>SE</td>\n",
       "      <td>0.048190</td>\n",
       "      <td>1</td>\n",
       "      <td>Yes</td>\n",
       "    </tr>\n",
       "  </tbody>\n",
       "</table>\n",
       "</div>"
      ],
      "text/plain": [
       "   ship_from      mean  count count_less_than_5\n",
       "5         CN  3.350000      1               Yes\n",
       "9         EU  3.019201     72                No\n",
       "13        NL  1.590375    496                No\n",
       "7         DE  1.190882    376                No\n",
       "15        US  0.903358    112                No\n",
       "12        IT  0.738067      7                No\n",
       "0         AU  0.729898     40                No\n",
       "10        FR  0.633551     70                No\n",
       "16        WW  0.366559     16                No\n",
       "3         CA  0.339558     19                No\n",
       "6         CZ  0.334000      1               Yes\n",
       "11        GB  0.272292    251                No\n",
       "1         BE  0.240792     25                No\n",
       "2         BR  0.153846      5                No\n",
       "8         ES  0.073071     11                No\n",
       "4         CH  0.053800      1               Yes\n",
       "14        SE  0.048190      1               Yes"
      ]
     },
     "execution_count": 8,
     "metadata": {},
     "output_type": "execute_result"
    }
   ],
   "source": [
    "df['ship_from'] = df.ships_from_to.str[:2]\n",
    "df.head()\n",
    "ship_from = df.groupby('ship_from').agg(\n",
    "    {'btc_price': ['mean', 'count']}).reset_index()\n",
    "ship_from = pd.concat([ship_from['ship_from'], ship_from['btc_price']], axis=1)\n",
    "ship_from.loc[ship_from['count'] < 5, 'count_less_than_5'] = 'Yes'\n",
    "ship_from.loc[ship_from['count'] >= 5, 'count_less_than_5'] = 'No'\n",
    "ship_from = ship_from.sort_values('mean', ascending=False)\n",
    "ship_from"
   ]
  },
  {
   "cell_type": "code",
   "execution_count": 9,
   "metadata": {},
   "outputs": [
    {
     "data": {
      "image/png": "[encoded data removed]",
      "text/plain": [
       "<Figure size 720x360 with 1 Axes>"
      ]
     },
     "metadata": {
      "needs_background": "light"
     },
     "output_type": "display_data"
    }
   ],
   "source": [
    "colors = {'Yes': 'coral', 'No': 'dodgerblue'}\n",
    "ship_from_plt = ship_from.rename(columns={'mean': 'count_is_less_than_5'})\n",
    "ax = ship_from_plt.plot(x='ship_from', y='count_is_less_than_5', kind='bar',\n",
    "                        color=ship_from_plt['count_less_than_5'].apply(lambda x: colors[x]), figsize=(10, 5), width=0.8)\n",
    "ax.set_xlabel('Ship From Which Country')\n",
    "ax.set_ylabel('mean of price')\n",
    "ax.set_title('Mean Cocaine Price for each Country Vender')\n",
    "plt.show()"
   ]
  },
  {
   "cell_type": "code",
   "execution_count": 10,
   "metadata": {},
   "outputs": [],
   "source": [
    "data = pd.concat([df.btc_price,df_b],axis=1)"
   ]
  },
  {
   "cell_type": "code",
   "execution_count": 11,
   "metadata": {},
   "outputs": [
    {
     "data": {
      "text/plain": [
       "['intro',\n",
       " 'columbia',\n",
       " 'peru',\n",
       " 'bolivia',\n",
       " 'free_ship',\n",
       " 'uncut',\n",
       " 'fishcut',\n",
       " 'brick',\n",
       " 'crack',\n",
       " 'crystal',\n",
       " 'flake',\n",
       " 'pure',\n",
       " 'escrow']"
      ]
     },
     "execution_count": 11,
     "metadata": {},
     "output_type": "execute_result"
    }
   ],
   "source": [
    "col_lst = list(data.columns[-13:])\n",
    "col_lst.append('escrow')\n",
    "col_lst.remove('caps')\n",
    "col_lst"
   ]
  },
  {
   "cell_type": "code",
   "execution_count": 12,
   "metadata": {},
   "outputs": [
    {
     "data": {
      "image/png": "[encoded data removed]",
      "text/plain": [
       "<Figure size 1440x1440 with 15 Axes>"
      ]
     },
     "metadata": {
      "needs_background": "light"
     },
     "output_type": "display_data"
    }
   ],
   "source": [
    "fig, axs = plt.subplots(3, 5, figsize=(20, 20))\n",
    "i = 0\n",
    "for col in col_lst:\n",
    "    row_index = int(i / 5)\n",
    "    col_index = i % 5\n",
    "    new_dataset = data.groupby(col).mean()['btc_price'].reset_index()\n",
    "    axs[row_index, col_index].bar(\n",
    "        new_dataset[col], new_dataset['btc_price'])\n",
    "    axs[row_index, col_index].set_title(col)\n",
    "    axs[row_index, col_index].set_title(col)\n",
    "    axs[row_index, col_index].set_ylabel('btc_price')\n",
    "    i += 1"
   ]
  },
  {
   "cell_type": "markdown",
   "metadata": {},
   "source": [
    "## Modeling"
   ]
  },
  {
   "cell_type": "markdown",
   "metadata": {},
   "source": [
    "- We trained a variety of machine learning models ranging from simple linear regression, linear regression with added feature engineering, L1, L2, and a Random Forest Regressor model.\n",
    "- Our Random Forest model ended up undergoing further hyperparameter tuning using Random Search, and all models underwent Cross Validation to assess how well our models would generalize.Our models were evaluated using RMSE and MEDAE, with MEDAE being our metric of choice due to the interpretability it lent via errors in price prediction.\n",
    "- Linear regression serves as a baseline model for our dataset. Ridge and Lasso improve the model's performance but not too much. Random forest also gives descent result, sometimes better than linear models (result varies every run).\n",
    "- Although we initially found our linear regression model with added feature engineering to be our strongest performing model (and from which we interpreted our coefficients and predictive variables), we later found our Random Forest Regressor model to have the strongest predictive power when comparing MEDAE across the board. "
   ]
  },
  {
   "cell_type": "markdown",
   "metadata": {},
   "source": [
    "### Initial Fit of Models & Cross Validation Scores"
   ]
  },
  {
   "cell_type": "markdown",
   "metadata": {},
   "source": [
    "Models that were used and placed into pipeline include Linear Regression, L1, L2, and Random Forest."
   ]
  },
  {
   "cell_type": "code",
   "execution_count": 13,
   "metadata": {
    "ExecuteTime": {
     "end_time": "2019-12-11T14:24:30.253903Z",
     "start_time": "2019-12-11T14:24:22.601765Z"
    }
   },
   "outputs": [
    {
     "name": "stdout",
     "output_type": "stream",
     "text": [
      "Cross Validation Score\n",
      "LinearRegression\n",
      "Average cross validation R^2: 0.9403\n",
      "[0.96824253 0.90866951 0.97977209 0.85944959 0.98560616]\n",
      "Average cross validation Medae: -0.1076\n",
      "[-0.10997495 -0.1046638  -0.10710083 -0.09241452 -0.12362185]\n",
      "\n",
      "Lasso\n",
      "Average cross validation R^2: 0.8399\n",
      "[0.88556985 0.79380307 0.88238946 0.75563848 0.88222534]\n",
      "Average cross validation Medae: -0.415\n",
      "[-0.39932706 -0.44837899 -0.38820964 -0.4490803  -0.38990213]\n",
      "\n",
      "Ridge\n",
      "Average cross validation R^2: 0.9405\n",
      "[0.96842923 0.90862611 0.97995158 0.85960678 0.98563791]\n",
      "Average cross validation Medae: -0.1085\n",
      "[-0.11055739 -0.10811254 -0.10933223 -0.09195884 -0.12246195]\n",
      "\n"
     ]
    },
    {
     "name": "stderr",
     "output_type": "stream",
     "text": [
      "/Users/jingxianli/anaconda3/lib/python3.7/site-packages/sklearn/ensemble/forest.py:245: FutureWarning: The default value of n_estimators will change from 10 in version 0.20 to 100 in 0.22.\n",
      "  \"10 in version 0.20 to 100 in 0.22.\", FutureWarning)\n"
     ]
    },
    {
     "name": "stdout",
     "output_type": "stream",
     "text": [
      "RandomForestRegressor\n",
      "Average cross validation R^2: 0.9145\n",
      "[0.94469758 0.89955942 0.96614022 0.84559087 0.91630275]\n",
      "Average cross validation Medae: -0.1288\n",
      "[-0.12598618 -0.13613473 -0.11768271 -0.13389996 -0.13018918]\n",
      "\n"
     ]
    }
   ],
   "source": [
    "print(\"Cross Validation Score\")\n",
    "pipelines = [LinearRegression(),\n",
    "             Lasso(),\n",
    "             Ridge(),\n",
    "             RandomForestRegressor(criterion='mae')]\n",
    "\n",
    "for pipe in pipelines:\n",
    "    pipe.fit(X_train,y_train)\n",
    "    name = pipe.__class__.__name__.split('.')[-1]\n",
    "    cv_medae = cross_val_score(pipe, X_train,y_train, scoring = 'neg_median_absolute_error', cv =5)\n",
    "    cv_score = cross_val_score(pipe, X_train,y_train, scoring = 'r2', cv =5)\n",
    "    print(f\"{name}\")\n",
    "    print(f\"Average cross validation R^2: {cv_score.mean():.4}\")\n",
    "    print(f\"{cv_score}\")\n",
    "    print(f\"Average cross validation Medae: {cv_medae.mean():.4}\")\n",
    "    print(f\"{cv_medae}\",end = \"\\n\\n\")"
   ]
  },
  {
   "cell_type": "markdown",
   "metadata": {},
   "source": [
    "### Random Forest Random Search for Hyperparameter Tuning"
   ]
  },
  {
   "cell_type": "code",
   "execution_count": 14,
   "metadata": {
    "ExecuteTime": {
     "end_time": "2019-12-11T14:24:34.756844Z",
     "start_time": "2019-12-11T14:24:34.754212Z"
    }
   },
   "outputs": [],
   "source": [
    "cv = 5\n",
    "n_iter = 20"
   ]
  },
  {
   "cell_type": "code",
   "execution_count": 15,
   "metadata": {
    "ExecuteTime": {
     "end_time": "2019-12-11T14:24:35.356451Z",
     "start_time": "2019-12-11T14:24:35.352549Z"
    }
   },
   "outputs": [],
   "source": [
    "hyperparameters = dict(n_estimators=range(10, 200),\n",
    "                       max_depth=range(3, 12))\n",
    "rf_random = RandomizedSearchCV(RandomForestRegressor(\n",
    "    criterion='mae', random_state=42), hyperparameters, cv=cv, n_iter=n_iter)"
   ]
  },
  {
   "cell_type": "code",
   "execution_count": 16,
   "metadata": {
    "ExecuteTime": {
     "end_time": "2019-12-11T14:24:35.923270Z",
     "start_time": "2019-12-11T14:24:35.919465Z"
    }
   },
   "outputs": [],
   "source": [
    "hyperparameters = dict(n_estimators=range(10, 200),\n",
    "                       max_depth=range(3, 12))\n",
    "rf_random = RandomizedSearchCV(RandomForestRegressor(\n",
    "    criterion='mae', random_state=42), hyperparameters,n_iter = n_iter)"
   ]
  },
  {
   "cell_type": "code",
   "execution_count": 17,
   "metadata": {
    "ExecuteTime": {
     "end_time": "2019-12-11T14:29:09.156938Z",
     "start_time": "2019-12-11T14:24:36.790043Z"
    }
   },
   "outputs": [
    {
     "name": "stderr",
     "output_type": "stream",
     "text": [
      "/Users/jingxianli/anaconda3/lib/python3.7/site-packages/sklearn/model_selection/_split.py:1978: FutureWarning: The default value of cv will change from 3 to 5 in version 0.22. Specify it explicitly to silence this warning.\n",
      "  warnings.warn(CV_WARNING, FutureWarning)\n"
     ]
    },
    {
     "data": {
      "text/plain": [
       "RandomizedSearchCV(cv='warn', error_score='raise-deprecating',\n",
       "                   estimator=RandomForestRegressor(bootstrap=True,\n",
       "                                                   criterion='mae',\n",
       "                                                   max_depth=None,\n",
       "                                                   max_features='auto',\n",
       "                                                   max_leaf_nodes=None,\n",
       "                                                   min_impurity_decrease=0.0,\n",
       "                                                   min_impurity_split=None,\n",
       "                                                   min_samples_leaf=1,\n",
       "                                                   min_samples_split=2,\n",
       "                                                   min_weight_fraction_leaf=0.0,\n",
       "                                                   n_estimators='warn',\n",
       "                                                   n_jobs=None, oob_score=False,\n",
       "                                                   random_state=42, verbose=0,\n",
       "                                                   warm_start=False),\n",
       "                   iid='warn', n_iter=20, n_jobs=None,\n",
       "                   param_distributions={'max_depth': range(3, 12),\n",
       "                                        'n_estimators': range(10, 200)},\n",
       "                   pre_dispatch='2*n_jobs', random_state=None, refit=True,\n",
       "                   return_train_score=False, scoring=None, verbose=0)"
      ]
     },
     "execution_count": 17,
     "metadata": {},
     "output_type": "execute_result"
    }
   ],
   "source": [
    "rf_random.fit(X_train, y_train)"
   ]
  },
  {
   "cell_type": "code",
   "execution_count": 18,
   "metadata": {
    "ExecuteTime": {
     "end_time": "2019-12-11T14:37:07.054094Z",
     "start_time": "2019-12-11T14:29:53.812794Z"
    }
   },
   "outputs": [
    {
     "name": "stderr",
     "output_type": "stream",
     "text": [
      "/Users/jingxianli/anaconda3/lib/python3.7/site-packages/sklearn/model_selection/_split.py:1978: FutureWarning: The default value of cv will change from 3 to 5 in version 0.22. Specify it explicitly to silence this warning.\n",
      "  warnings.warn(CV_WARNING, FutureWarning)\n",
      "/Users/jingxianli/anaconda3/lib/python3.7/site-packages/sklearn/model_selection/_split.py:1978: FutureWarning: The default value of cv will change from 3 to 5 in version 0.22. Specify it explicitly to silence this warning.\n",
      "  warnings.warn(CV_WARNING, FutureWarning)\n",
      "/Users/jingxianli/anaconda3/lib/python3.7/site-packages/sklearn/model_selection/_split.py:1978: FutureWarning: The default value of cv will change from 3 to 5 in version 0.22. Specify it explicitly to silence this warning.\n",
      "  warnings.warn(CV_WARNING, FutureWarning)\n"
     ]
    },
    {
     "data": {
      "text/plain": [
       "array([0.96538203, 0.92524844, 0.88650469])"
      ]
     },
     "execution_count": 18,
     "metadata": {},
     "output_type": "execute_result"
    }
   ],
   "source": [
    "cross_val_score(rf_random, X_train, y_train)"
   ]
  },
  {
   "cell_type": "markdown",
   "metadata": {},
   "source": [
    "## Model Comparison & Evaluation Metrics"
   ]
  },
  {
   "cell_type": "markdown",
   "metadata": {},
   "source": [
    "- We used two metrics to evaluate our model, Median Abosulte Error and Root Mean Square Error. MEDAE serves as a north star metric because we don't want outliers to influence our model evaluation. We also take RMSE into consideration, based on these two metrics, Random forest is the best one."
   ]
  },
  {
   "cell_type": "code",
   "execution_count": 19,
   "metadata": {
    "ExecuteTime": {
     "end_time": "2019-12-11T14:37:39.090686Z",
     "start_time": "2019-12-11T14:37:39.078607Z"
    }
   },
   "outputs": [
    {
     "name": "stderr",
     "output_type": "stream",
     "text": [
      "/Users/jingxianli/anaconda3/lib/python3.7/site-packages/ipykernel_launcher.py:3: SettingWithCopyWarning: \n",
      "A value is trying to be set on a copy of a slice from a DataFrame.\n",
      "Try using .loc[row_indexer,col_indexer] = value instead\n",
      "\n",
      "See the caveats in the documentation: http://pandas.pydata.org/pandas-docs/stable/user_guide/indexing.html#returning-a-view-versus-a-copy\n",
      "  This is separate from the ipykernel package so we can avoid doing imports until\n",
      "/Users/jingxianli/anaconda3/lib/python3.7/site-packages/ipykernel_launcher.py:4: SettingWithCopyWarning: \n",
      "A value is trying to be set on a copy of a slice from a DataFrame.\n",
      "Try using .loc[row_indexer,col_indexer] = value instead\n",
      "\n",
      "See the caveats in the documentation: http://pandas.pydata.org/pandas-docs/stable/user_guide/indexing.html#returning-a-view-versus-a-copy\n",
      "  after removing the cwd from sys.path.\n"
     ]
    }
   ],
   "source": [
    "y_test = np.exp(y_test)\n",
    "y_train = np.exp(y_train)\n",
    "X_test[\"grams\"] = np.exp(X_test[\"grams\"])\n",
    "X_train[\"grams\"] = np.exp(X_train[\"grams\"])"
   ]
  },
  {
   "cell_type": "code",
   "execution_count": 20,
   "metadata": {
    "ExecuteTime": {
     "end_time": "2019-12-11T14:37:41.782387Z",
     "start_time": "2019-12-11T14:37:41.762978Z"
    }
   },
   "outputs": [
    {
     "name": "stdout",
     "output_type": "stream",
     "text": [
      "3.0243 medae on LinearRegression test set\n",
      "179.9358 mse on LinearRegression test set\n",
      "2.5461 medae on Lasso test set\n",
      "122.4694 mse on Lasso test set\n",
      "3.0214 medae on Ridge test set\n",
      "179.7095 mse on Ridge test set\n",
      "2.6410 medae on RandomForestRegressor test set\n",
      "3.5640 mse on RandomForestRegressor test set\n"
     ]
    }
   ],
   "source": [
    "for pipe in pipelines:\n",
    "    name = pipe.__class__.__name__\n",
    "    pred_test = pipe.predict(X_test)\n",
    "    medae_value = median_absolute_error(y_test, pred_test)\n",
    "    print(f\"{medae_value:.4f} medae on {name} test set\")\n",
    "    mse_value = mean_squared_error(y_test, pred_test)\n",
    "    rmse_value = np.sqrt(mse_value)\n",
    "    print(f\"{rmse_value:.4f} mse on {name} test set\")"
   ]
  },
  {
   "cell_type": "code",
   "execution_count": 21,
   "metadata": {},
   "outputs": [
    {
     "name": "stdout",
     "output_type": "stream",
     "text": [
      "2.6276 medae on rf_random_search test set\n",
      "3.5641 mse on rf_random_search test set\n"
     ]
    }
   ],
   "source": [
    "pred_test = rf_random.predict(X_test)\n",
    "medae_value = median_absolute_error(y_test, pred_test)\n",
    "print(f\"{medae_value:.4f} medae on rf_random_search test set\")\n",
    "mse_value = mean_squared_error(y_test, pred_test)\n",
    "rmse_value = np.sqrt(mse_value)\n",
    "print(f\"{rmse_value:.4f} mse on rf_random_search test set\")"
   ]
  },
  {
   "cell_type": "markdown",
   "metadata": {},
   "source": [
    "As can be seen above, our Random Forest Regressor Model performed the best with the lowest MEDAE on our test set.  Initially our Linear Regression Model with the additional feature engineering done on it performed the best.  That model's interpretation is given below. "
   ]
  },
  {
   "cell_type": "markdown",
   "metadata": {},
   "source": [
    "## Model Interpretation\n"
   ]
  },
  {
   "cell_type": "markdown",
   "metadata": {},
   "source": [
    "- We split our analysis between numeric and categorical variables. For our numeric variables, we found that the grams variable had the strongest predictive power of btc price, which is consistent with our intuition. However, in analyzing our categorical variables, we gleaned useful insights such as the place where this cocaine was shipped from was more important than where it was shipped to, probably because of strict drug laws in the home country posing an extra risk on the vendor's side which drove up price, as can be seen in cases like China. Another interesting feature ended up being the type and cut of the product and whether or not it was in the form of \"crystal\" or not."
   ]
  },
  {
   "cell_type": "code",
   "execution_count": 22,
   "metadata": {
    "ExecuteTime": {
     "end_time": "2019-12-11T14:52:41.316068Z",
     "start_time": "2019-12-11T14:52:41.307133Z"
    }
   },
   "outputs": [
    {
     "data": {
      "text/plain": [
       "LinearRegression(copy_X=True, fit_intercept=True, n_jobs=None, normalize=False)"
      ]
     },
     "execution_count": 22,
     "metadata": {},
     "output_type": "execute_result"
    }
   ],
   "source": [
    "lm = LinearRegression()\n",
    "lm.fit(X_train, y_train)"
   ]
  },
  {
   "cell_type": "code",
   "execution_count": 23,
   "metadata": {
    "ExecuteTime": {
     "end_time": "2019-12-11T14:38:12.213077Z",
     "start_time": "2019-12-11T14:38:12.014662Z"
    }
   },
   "outputs": [
    {
     "name": "stdout",
     "output_type": "stream",
     "text": [
      "grams 0.014553213446972222\n",
      "quality 0.0018282587123315565\n",
      "successful_transactions 0.00011470389399737636\n",
      "rating -0.047363997668662\n",
      "ships_from_US 0.04983563623682667\n",
      "ships_to_NL 0.03228831783248388\n",
      "ships_to_CA -0.017956703711775247\n",
      "ships_from_CA 0.009104403647073718\n",
      "ships_to_EU 0.03415704711385028\n",
      "ships_to_N. America -0.016544915050798692\n",
      "ships_from_BE -0.026467260652667895\n",
      "ships_from_WW 0.02651133358412257\n",
      "uncut 0.0026165610488201427\n",
      "crystal -0.04890634371550756\n",
      "pure 0.015261820193600305\n"
     ]
    },
    {
     "data": {
      "image/png": "[encoded data removed]",
      "text/plain": [
       "<Figure size 1440x360 with 1 Axes>"
      ]
     },
     "metadata": {
      "needs_background": "light"
     },
     "output_type": "display_data"
    }
   ],
   "source": [
    "# Interpreting coefficients\n",
    "ls = []\n",
    "ls1 = []\n",
    "for x,y in zip(list(df_b.columns), lm.coef_):\n",
    "    if abs(y) < 0.05:\n",
    "        print(x,y)\n",
    "        ls.append(x)\n",
    "        ls1.append(y)\n",
    "fig, ax = plt.subplots(figsize=(20,5))\n",
    "plt.bar(ls,ls1)\n",
    "plt.show()"
   ]
  },
  {
   "cell_type": "code",
   "execution_count": 24,
   "metadata": {
    "ExecuteTime": {
     "end_time": "2019-12-11T14:38:21.128634Z",
     "start_time": "2019-12-11T14:38:20.883212Z"
    }
   },
   "outputs": [
    {
     "name": "stdout",
     "output_type": "stream",
     "text": [
      "ships_to_AU 2.9801006586836354\n",
      "ships_from_AU -2.316528433401238\n",
      "bolivia -1.0831184098656466\n"
     ]
    },
    {
     "data": {
      "image/png": "[encoded data removed]",
      "text/plain": [
       "<Figure size 1440x360 with 1 Axes>"
      ]
     },
     "metadata": {
      "needs_background": "light"
     },
     "output_type": "display_data"
    }
   ],
   "source": [
    "# Interpret coefficients\n",
    "ls = []\n",
    "ls1 = []\n",
    "for x,y in zip(list(df_b.columns), lm.coef_):\n",
    "    if abs(y) >= 0.5:\n",
    "        print(x,y)\n",
    "        ls.append(x)\n",
    "        ls1.append(y)\n",
    "fig, ax = plt.subplots(figsize=(20,5))\n",
    "plt.bar(ls,ls1)\n",
    "plt.show()"
   ]
  },
  {
   "cell_type": "markdown",
   "metadata": {},
   "source": [
    "Checking the relationship between our strongest predictor variable:"
   ]
  },
  {
   "cell_type": "code",
   "execution_count": 25,
   "metadata": {
    "ExecuteTime": {
     "end_time": "2019-12-11T15:08:52.663353Z",
     "start_time": "2019-12-11T15:08:52.489906Z"
    }
   },
   "outputs": [
    {
     "data": {
      "image/png": "[encoded data removed]",
      "text/plain": [
       "<Figure size 432x288 with 1 Axes>"
      ]
     },
     "metadata": {
      "needs_background": "light"
     },
     "output_type": "display_data"
    }
   ],
   "source": [
    "plt.scatter(y_train, X_train[\"grams\"])\n",
    "plt.show()"
   ]
  },
  {
   "cell_type": "code",
   "execution_count": 26,
   "metadata": {
    "ExecuteTime": {
     "end_time": "2019-12-11T15:08:54.411500Z",
     "start_time": "2019-12-11T15:08:54.237798Z"
    },
    "scrolled": true
   },
   "outputs": [
    {
     "data": {
      "image/png": "[encoded data removed]",
      "text/plain": [
       "<Figure size 432x288 with 1 Axes>"
      ]
     },
     "metadata": {
      "needs_background": "light"
     },
     "output_type": "display_data"
    }
   ],
   "source": [
    "plt.scatter(y_test, X_test[\"grams\"])\n",
    "plt.show()"
   ]
  },
  {
   "cell_type": "markdown",
   "metadata": {},
   "source": [
    "## Conclusion & Summary of Results"
   ]
  },
  {
   "cell_type": "markdown",
   "metadata": {},
   "source": [
    "- In this project we used various machine learning models to predict the btc price of dark market cocaine.  Our dataset was composed of approximately 1,400 cleaned and standardized product listings from Dream Market's \"Cocaine\" category.\n",
    "\n",
    "- Initial exploratory data analysis revealed that we could split up our *shipped from-to* column into their individual components from which we then one-hot encoded into their respective categorical variables.  Further feature engineering via string extraction and manipulation was done on our *product title* column as we noticed that not all amounts in the *price*  column were scraped correctly and that there were some mistakes in encoding price schemes resulting from commas and decimals not being uniform in their use across countries.\n",
    "\n",
    "- We then trained a variety of machine learning models ranging from simple linear regression, linear regression with added feature engineering, L1, L2, and a Random Forest Regressor model.  Our Random Forest model ended up undergoing further hyperparameter tuning using Random Search, and all models underwent Cross Validation to assess how well our models would generalize.  Our models were evaluated using RMSE and MEDAE, with MEDAE being our metric of choice due to the interpretability it lent via errors in price prediction.\n",
    "\n",
    "- Although we initially found our linear regression model with added feature engineering to be our strongest performing model (and from which we interpreted our coefficients and predictive variables), we later found our Random Forest Regressor model to have the strongest predictive power when comparing MEDAE across the board. \n",
    "\n",
    "- In interpreting our model, we split our analysis between numeric and categorical variables.  For our numeric variables, we found that the grams variable had the strongest predictive power of btc price, which is consistent with our intuition.  However, in analyzing our categorical variables, we gleaned useful insights such as the place where this cocaine was shipped from was more important than where it was shipped to, probably because of strict drug laws in the home country posing an extra risk on the vendor's side which drove up price, as can be seen in cases like China.  Another interesting feature ended up being the type and cut of the product and whether or not it was in the form of \"crystal\" or not.  \n",
    "\n",
    "- Overall, our model performed with a median absolute error of about $44 USD, which as of this time is the best performing model on Kaggle.  "
   ]
  },
  {
   "cell_type": "markdown",
   "metadata": {},
   "source": [
    "## Takeaways"
   ]
  },
  {
   "cell_type": "markdown",
   "metadata": {},
   "source": [
    "- The strongest predictor for price of cocaine is grams.\n",
    "- To predict cocaine price, the places where this cocaine was shipped from (ship_from variables) are more important than where it was shipped to (ship_to variables), probably because strict drug laws or border control in the home country will pose an extra risk on the vendor’s side which would drive up the price, as can be seen in cases like China.\n",
    "- Other features describing the form of cocaine, such as brick, crack, uncut and crystal, also have strong prediction ability.\n",
    "- When the cocaine transaction is accompanied with escrow, the cocaine price could be more expensive, possibly because customers believe it is worthy to pay more to ensure the success of transaction. In the meanwhile, free_ship cocaine would be less expensive, as usually people pay extra to get those cocaine disguised so free shipping is not what people want."
   ]
  }
 ],
 "metadata": {
  "kernelspec": {
   "display_name": "Python 3",
   "language": "python",
   "name": "python3"
  },
  "language_info": {
   "codemirror_mode": {
    "name": "ipython",
    "version": 3
   },
   "file_extension": ".py",
   "mimetype": "text/x-python",
   "name": "python",
   "nbconvert_exporter": "python",
   "pygments_lexer": "ipython3",
   "version": "3.7.4"
  },
  "toc": {
   "base_numbering": 1,
   "nav_menu": {},
   "number_sections": false,
   "sideBar": true,
   "skip_h1_title": false,
   "title_cell": "Table of Contents",
   "title_sidebar": "Contents",
   "toc_cell": true,
   "toc_position": {
    "height": "505.764px",
    "left": "10px",
    "top": "150px",
    "width": "211.997px"
   },
   "toc_section_display": true,
   "toc_window_display": true
  },
  "varInspector": {
   "cols": {
    "lenName": 16,
    "lenType": 16,
    "lenVar": 40
   },
   "kernels_config": {
    "python": {
     "delete_cmd_postfix": "",
     "delete_cmd_prefix": "del ",
     "library": "var_list.py",
     "varRefreshCmd": "print(var_dic_list())"
    },
    "r": {
     "delete_cmd_postfix": ") ",
     "delete_cmd_prefix": "rm(",
     "library": "var_list.r",
     "varRefreshCmd": "cat(var_dic_list()) "
    }
   },
   "types_to_exclude": [
    "module",
    "function",
    "builtin_function_or_method",
    "instance",
    "_Feature"
   ],
   "window_display": false
  }
 },
 "nbformat": 4,
 "nbformat_minor": 2
}
