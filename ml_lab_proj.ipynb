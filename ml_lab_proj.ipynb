{
 "cells": [
  {
   "cell_type": "markdown",
   "metadata": {
    "toc": true
   },
   "source": [
    "<h1>Table of Contents<span class=\"tocSkip\"></span></h1>\n",
    "<div class=\"toc\"><ul class=\"toc-item\"><li><span><a href=\"#Final-Project-Check-in\" data-toc-modified-id=\"Final-Project-Check-in-1\">Final Project Check-in</a></span></li><li><span><a href=\"#Group-Name\" data-toc-modified-id=\"Group-Name-2\">Group Name</a></span></li><li><span><a href=\"#Student-Names\" data-toc-modified-id=\"Student-Names-3\">Student Names</a></span></li><li><span><a href=\"#Load-Data\" data-toc-modified-id=\"Load-Data-4\">Load Data</a></span></li><li><span><a href=\"#Fit-scikit-learn-model\" data-toc-modified-id=\"Fit-scikit-learn-model-5\">Fit scikit-learn model</a></span></li><li><span><a href=\"#Evaluation-Metric\" data-toc-modified-id=\"Evaluation-Metric-6\">Evaluation Metric</a></span></li></ul></div>"
   ]
  },
  {
   "cell_type": "markdown",
   "metadata": {},
   "source": [
    "Final Project Check-in\n",
    "------"
   ]
  },
  {
   "cell_type": "markdown",
   "metadata": {},
   "source": [
    "Group Name\n",
    "-----"
   ]
  },
  {
   "cell_type": "markdown",
   "metadata": {},
   "source": [
    " Random_Forest_Elves\n"
   ]
  },
  {
   "cell_type": "markdown",
   "metadata": {},
   "source": [
    "Student Names\n",
    "----"
   ]
  },
  {
   "cell_type": "markdown",
   "metadata": {},
   "source": [
    "1. Shirley Li\n",
    "2. Jingxian Li \n",
    "3. Michael Schulze\n",
    "4. Mundy Reimer"
   ]
  },
  {
   "cell_type": "markdown",
   "metadata": {},
   "source": [
    "Load Data\n",
    "-----"
   ]
  },
  {
   "cell_type": "code",
   "execution_count": null,
   "metadata": {},
   "outputs": [],
   "source": [
    "reset -fs"
   ]
  },
  {
   "cell_type": "code",
   "execution_count": 1,
   "metadata": {
    "ExecuteTime": {
     "end_time": "2019-11-22T22:20:01.334961Z",
     "start_time": "2019-11-22T22:20:00.369557Z"
    }
   },
   "outputs": [],
   "source": [
    "import pandas as pd\n",
    "import numpy as np\n",
    "\n",
    "from sklearn.pipeline import Pipeline\n",
    "from sklearn.preprocessing import StandardScaler\n",
    "from sklearn.decomposition import PCA\n",
    "from sklearn.linear_model import LogisticRegression\n",
    "from sklearn.tree import DecisionTreeClassifier\n",
    "from sklearn.svm import SVC\n",
    "from sklearn.model_selection import cross_val_score, KFold\n",
    "from sklearn.model_selection import GridSearchCV\n",
    "from sklearn.base import BaseEstimator"
   ]
  },
  {
   "cell_type": "code",
   "execution_count": 7,
   "metadata": {
    "ExecuteTime": {
     "end_time": "2019-11-22T22:22:11.976969Z",
     "start_time": "2019-11-22T22:22:11.948951Z"
    }
   },
   "outputs": [],
   "source": [
    "df = pd.read_csv('dream_market_cocaine_listings.csv')"
   ]
  },
  {
   "cell_type": "code",
   "execution_count": 8,
   "metadata": {
    "ExecuteTime": {
     "end_time": "2019-11-22T22:23:25.768308Z",
     "start_time": "2019-11-22T22:23:25.731448Z"
    }
   },
   "outputs": [
    {
     "data": {
      "text/html": [
       "<div>\n",
       "<style scoped>\n",
       "    .dataframe tbody tr th:only-of-type {\n",
       "        vertical-align: middle;\n",
       "    }\n",
       "\n",
       "    .dataframe tbody tr th {\n",
       "        vertical-align: top;\n",
       "    }\n",
       "\n",
       "    .dataframe thead th {\n",
       "        text-align: right;\n",
       "    }\n",
       "</style>\n",
       "<table border=\"1\" class=\"dataframe\">\n",
       "  <thead>\n",
       "    <tr style=\"text-align: right;\">\n",
       "      <th></th>\n",
       "      <th>Unnamed: 0</th>\n",
       "      <th>product_title</th>\n",
       "      <th>ships_from_to</th>\n",
       "      <th>grams</th>\n",
       "      <th>quality</th>\n",
       "      <th>btc_price</th>\n",
       "      <th>cost_per_gram</th>\n",
       "      <th>cost_per_gram_pure</th>\n",
       "      <th>escrow</th>\n",
       "      <th>product_link</th>\n",
       "      <th>...</th>\n",
       "      <th>ships_to_SE</th>\n",
       "      <th>ships_from_SE</th>\n",
       "      <th>ships_to_CO</th>\n",
       "      <th>ships_from_CO</th>\n",
       "      <th>ships_to_CN</th>\n",
       "      <th>ships_from_CN</th>\n",
       "      <th>ships_to_PL</th>\n",
       "      <th>ships_from_PL</th>\n",
       "      <th>ships_to_GR</th>\n",
       "      <th>ships_from_GR</th>\n",
       "    </tr>\n",
       "  </thead>\n",
       "  <tbody>\n",
       "    <tr>\n",
       "      <td>0</td>\n",
       "      <td>10</td>\n",
       "      <td>!!!!!INTRO OFFER!!!!! 1GR COCAINE 90%</td>\n",
       "      <td>NL  → EU</td>\n",
       "      <td>1.0</td>\n",
       "      <td>90.0</td>\n",
       "      <td>0.02577</td>\n",
       "      <td>0.02577</td>\n",
       "      <td>0.028633</td>\n",
       "      <td>1</td>\n",
       "      <td>http://lchudifyeqm4ldjj.onion/viewProduct?offe...</td>\n",
       "      <td>...</td>\n",
       "      <td>False</td>\n",
       "      <td>False</td>\n",
       "      <td>False</td>\n",
       "      <td>False</td>\n",
       "      <td>False</td>\n",
       "      <td>False</td>\n",
       "      <td>False</td>\n",
       "      <td>False</td>\n",
       "      <td>False</td>\n",
       "      <td>False</td>\n",
       "    </tr>\n",
       "    <tr>\n",
       "      <td>1</td>\n",
       "      <td>11</td>\n",
       "      <td>!!!!!INTRO OFFER!!!!! 2GR COCAINE 90%</td>\n",
       "      <td>NL  → EU</td>\n",
       "      <td>2.0</td>\n",
       "      <td>90.0</td>\n",
       "      <td>0.05150</td>\n",
       "      <td>0.02575</td>\n",
       "      <td>0.028611</td>\n",
       "      <td>1</td>\n",
       "      <td>http://lchudifyeqm4ldjj.onion/viewProduct?offe...</td>\n",
       "      <td>...</td>\n",
       "      <td>False</td>\n",
       "      <td>False</td>\n",
       "      <td>False</td>\n",
       "      <td>False</td>\n",
       "      <td>False</td>\n",
       "      <td>False</td>\n",
       "      <td>False</td>\n",
       "      <td>False</td>\n",
       "      <td>False</td>\n",
       "      <td>False</td>\n",
       "    </tr>\n",
       "    <tr>\n",
       "      <td>2</td>\n",
       "      <td>14</td>\n",
       "      <td>!!!INTRO!!! 0.5G COCAINE 89% - STRAIGHT FROM T...</td>\n",
       "      <td>NL  → EU</td>\n",
       "      <td>0.5</td>\n",
       "      <td>89.0</td>\n",
       "      <td>0.01649</td>\n",
       "      <td>0.03298</td>\n",
       "      <td>0.037056</td>\n",
       "      <td>1</td>\n",
       "      <td>http://lchudifyeqm4ldjj.onion/viewProduct?offe...</td>\n",
       "      <td>...</td>\n",
       "      <td>False</td>\n",
       "      <td>False</td>\n",
       "      <td>False</td>\n",
       "      <td>False</td>\n",
       "      <td>False</td>\n",
       "      <td>False</td>\n",
       "      <td>False</td>\n",
       "      <td>False</td>\n",
       "      <td>False</td>\n",
       "      <td>False</td>\n",
       "    </tr>\n",
       "    <tr>\n",
       "      <td>3</td>\n",
       "      <td>20</td>\n",
       "      <td>!1G! C O L O M B I A N C O C A I N E - 89% PURITY</td>\n",
       "      <td>FR  → EU</td>\n",
       "      <td>1.0</td>\n",
       "      <td>89.0</td>\n",
       "      <td>0.04120</td>\n",
       "      <td>0.04120</td>\n",
       "      <td>0.046292</td>\n",
       "      <td>1</td>\n",
       "      <td>http://lchudifyeqm4ldjj.onion/viewProduct?offe...</td>\n",
       "      <td>...</td>\n",
       "      <td>False</td>\n",
       "      <td>False</td>\n",
       "      <td>False</td>\n",
       "      <td>False</td>\n",
       "      <td>False</td>\n",
       "      <td>False</td>\n",
       "      <td>False</td>\n",
       "      <td>False</td>\n",
       "      <td>False</td>\n",
       "      <td>False</td>\n",
       "    </tr>\n",
       "    <tr>\n",
       "      <td>4</td>\n",
       "      <td>41</td>\n",
       "      <td>** 1 Gram 87% Pure Uncut Colombian Cocaine **</td>\n",
       "      <td>NL  → WW</td>\n",
       "      <td>1.0</td>\n",
       "      <td>87.0</td>\n",
       "      <td>0.03400</td>\n",
       "      <td>0.03400</td>\n",
       "      <td>0.039080</td>\n",
       "      <td>1</td>\n",
       "      <td>http://lchudifyeqm4ldjj.onion/viewProduct?offe...</td>\n",
       "      <td>...</td>\n",
       "      <td>False</td>\n",
       "      <td>False</td>\n",
       "      <td>False</td>\n",
       "      <td>False</td>\n",
       "      <td>False</td>\n",
       "      <td>False</td>\n",
       "      <td>False</td>\n",
       "      <td>False</td>\n",
       "      <td>False</td>\n",
       "      <td>False</td>\n",
       "    </tr>\n",
       "  </tbody>\n",
       "</table>\n",
       "<p>5 rows × 64 columns</p>\n",
       "</div>"
      ],
      "text/plain": [
       "   Unnamed: 0                                      product_title  \\\n",
       "0          10              !!!!!INTRO OFFER!!!!! 1GR COCAINE 90%   \n",
       "1          11              !!!!!INTRO OFFER!!!!! 2GR COCAINE 90%   \n",
       "2          14  !!!INTRO!!! 0.5G COCAINE 89% - STRAIGHT FROM T...   \n",
       "3          20  !1G! C O L O M B I A N C O C A I N E - 89% PURITY   \n",
       "4          41      ** 1 Gram 87% Pure Uncut Colombian Cocaine **   \n",
       "\n",
       "  ships_from_to  grams  quality  btc_price  cost_per_gram  cost_per_gram_pure  \\\n",
       "0      NL  → EU    1.0     90.0    0.02577        0.02577            0.028633   \n",
       "1      NL  → EU    2.0     90.0    0.05150        0.02575            0.028611   \n",
       "2      NL  → EU    0.5     89.0    0.01649        0.03298            0.037056   \n",
       "3      FR  → EU    1.0     89.0    0.04120        0.04120            0.046292   \n",
       "4      NL  → WW    1.0     87.0    0.03400        0.03400            0.039080   \n",
       "\n",
       "   escrow                                       product_link  ... ships_to_SE  \\\n",
       "0       1  http://lchudifyeqm4ldjj.onion/viewProduct?offe...  ...       False   \n",
       "1       1  http://lchudifyeqm4ldjj.onion/viewProduct?offe...  ...       False   \n",
       "2       1  http://lchudifyeqm4ldjj.onion/viewProduct?offe...  ...       False   \n",
       "3       1  http://lchudifyeqm4ldjj.onion/viewProduct?offe...  ...       False   \n",
       "4       1  http://lchudifyeqm4ldjj.onion/viewProduct?offe...  ...       False   \n",
       "\n",
       "  ships_from_SE  ships_to_CO  ships_from_CO ships_to_CN ships_from_CN  \\\n",
       "0         False        False          False       False         False   \n",
       "1         False        False          False       False         False   \n",
       "2         False        False          False       False         False   \n",
       "3         False        False          False       False         False   \n",
       "4         False        False          False       False         False   \n",
       "\n",
       "   ships_to_PL  ships_from_PL  ships_to_GR  ships_from_GR  \n",
       "0        False          False        False          False  \n",
       "1        False          False        False          False  \n",
       "2        False          False        False          False  \n",
       "3        False          False        False          False  \n",
       "4        False          False        False          False  \n",
       "\n",
       "[5 rows x 64 columns]"
      ]
     },
     "execution_count": 8,
     "metadata": {},
     "output_type": "execute_result"
    }
   ],
   "source": [
    "df.head()"
   ]
  },
  {
   "cell_type": "code",
   "execution_count": 9,
   "metadata": {
    "ExecuteTime": {
     "end_time": "2019-11-22T22:23:28.494473Z",
     "start_time": "2019-11-22T22:23:28.489846Z"
    }
   },
   "outputs": [
    {
     "data": {
      "text/plain": [
       "Index(['Unnamed: 0', 'product_title', 'ships_from_to', 'grams', 'quality',\n",
       "       'btc_price', 'cost_per_gram', 'cost_per_gram_pure', 'escrow',\n",
       "       'product_link', 'vendor_link', 'vendor_name', 'successful_transactions',\n",
       "       'rating', 'ships_from', 'ships_to', 'ships_to_US', 'ships_from_US',\n",
       "       'ships_to_NL', 'ships_from_NL', 'ships_to_FR', 'ships_from_FR',\n",
       "       'ships_to_GB', 'ships_from_GB', 'ships_to_CA', 'ships_from_CA',\n",
       "       'ships_to_DE', 'ships_from_DE', 'ships_to_AU', 'ships_from_AU',\n",
       "       'ships_to_EU', 'ships_from_EU', 'ships_to_ES', 'ships_from_ES',\n",
       "       'ships_to_N. America', 'ships_from_N. America', 'ships_to_BE',\n",
       "       'ships_from_BE', 'ships_to_WW', 'ships_from_WW', 'ships_to_SI',\n",
       "       'ships_from_SI', 'ships_to_IT', 'ships_from_IT', 'ships_to_DK',\n",
       "       'ships_from_DK', 'ships_to_S. America', 'ships_from_S. America',\n",
       "       'ships_to_CH', 'ships_from_CH', 'ships_to_BR', 'ships_from_BR',\n",
       "       'ships_to_CZ', 'ships_from_CZ', 'ships_to_SE', 'ships_from_SE',\n",
       "       'ships_to_CO', 'ships_from_CO', 'ships_to_CN', 'ships_from_CN',\n",
       "       'ships_to_PL', 'ships_from_PL', 'ships_to_GR', 'ships_from_GR'],\n",
       "      dtype='object')"
      ]
     },
     "execution_count": 9,
     "metadata": {},
     "output_type": "execute_result"
    }
   ],
   "source": [
    "df. columns"
   ]
  },
  {
   "cell_type": "markdown",
   "metadata": {},
   "source": [
    "Fit scikit-learn model\n",
    "----"
   ]
  },
  {
   "cell_type": "code",
   "execution_count": null,
   "metadata": {},
   "outputs": [],
   "source": []
  },
  {
   "cell_type": "markdown",
   "metadata": {},
   "source": [
    "Evaluation Metric\n",
    "----"
   ]
  },
  {
   "cell_type": "code",
   "execution_count": null,
   "metadata": {},
   "outputs": [],
   "source": []
  }
 ],
 "metadata": {
  "kernelspec": {
   "display_name": "Python 3",
   "language": "python",
   "name": "python3"
  },
  "toc": {
   "base_numbering": 1,
   "nav_menu": {},
   "number_sections": false,
   "sideBar": false,
   "skip_h1_title": false,
   "title_cell": "Table of Contents",
   "title_sidebar": "Contents",
   "toc_cell": true,
   "toc_position": {},
   "toc_section_display": true,
   "toc_window_display": false
  },
  "varInspector": {
   "cols": {
    "lenName": 16,
    "lenType": 16,
    "lenVar": 40
   },
   "kernels_config": {
    "python": {
     "delete_cmd_postfix": "",
     "delete_cmd_prefix": "del ",
     "library": "var_list.py",
     "varRefreshCmd": "print(var_dic_list())"
    },
    "r": {
     "delete_cmd_postfix": ") ",
     "delete_cmd_prefix": "rm(",
     "library": "var_list.r",
     "varRefreshCmd": "cat(var_dic_list()) "
    }
   },
   "types_to_exclude": [
    "module",
    "function",
    "builtin_function_or_method",
    "instance",
    "_Feature"
   ],
   "window_display": false
  }
 },
 "nbformat": 4,
 "nbformat_minor": 2
}
