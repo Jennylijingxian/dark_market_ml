{
 "cells": [
  {
   "cell_type": "markdown",
   "metadata": {
    "toc": true
   },
   "source": [
    "<h1>Table of Contents<span class=\"tocSkip\"></span></h1>\n",
    "<div class=\"toc\"><ul class=\"toc-item\"><li><span><a href=\"#Final-Project-Check-in\" data-toc-modified-id=\"Final-Project-Check-in-1\">Final Project Check-in</a></span></li><li><span><a href=\"#Group-Name\" data-toc-modified-id=\"Group-Name-2\">Group Name</a></span></li><li><span><a href=\"#Student-Names\" data-toc-modified-id=\"Student-Names-3\">Student Names</a></span></li><li><span><a href=\"#Load-Data\" data-toc-modified-id=\"Load-Data-4\">Load Data</a></span></li><li><span><a href=\"#Fit-scikit-learn-model\" data-toc-modified-id=\"Fit-scikit-learn-model-5\">Fit scikit-learn model</a></span></li><li><span><a href=\"#Evaluation-Metric\" data-toc-modified-id=\"Evaluation-Metric-6\">Evaluation Metric</a></span></li></ul></div>"
   ]
  },
  {
   "cell_type": "markdown",
   "metadata": {},
   "source": [
    "Final Project Check-in\n",
    "------"
   ]
  },
  {
   "cell_type": "markdown",
   "metadata": {},
   "source": [
    "Group Name\n",
    "-----"
   ]
  },
  {
   "cell_type": "markdown",
   "metadata": {},
   "source": [
    " Random_Forest_Elves\n"
   ]
  },
  {
   "cell_type": "markdown",
   "metadata": {},
   "source": [
    "Student Names\n",
    "----"
   ]
  },
  {
   "cell_type": "markdown",
   "metadata": {},
   "source": [
    "1. Shirley Li\n",
    "2. Jingxian Li \n",
    "3. Michael Schulze\n",
    "4. Mundy Reimer"
   ]
  },
  {
   "cell_type": "markdown",
   "metadata": {},
   "source": [
    "Load Data\n",
    "-----"
   ]
  },
  {
   "cell_type": "code",
   "execution_count": 150,
   "metadata": {
    "ExecuteTime": {
     "end_time": "2019-11-23T00:18:27.895678Z",
     "start_time": "2019-11-23T00:18:27.470353Z"
    }
   },
   "outputs": [],
   "source": [
    "reset -fs"
   ]
  },
  {
   "cell_type": "code",
   "execution_count": 151,
   "metadata": {
    "ExecuteTime": {
     "end_time": "2019-11-23T00:18:29.033123Z",
     "start_time": "2019-11-23T00:18:29.028965Z"
    }
   },
   "outputs": [],
   "source": [
    "import pandas as pd\n",
    "import numpy as np\n",
    "\n",
    "from sklearn.model_selection import train_test_split\n",
    "\n",
    "from sklearn.linear_model import LinearRegression\n",
    "\n",
    "from sklearn import metrics"
   ]
  },
  {
   "cell_type": "code",
   "execution_count": 152,
   "metadata": {
    "ExecuteTime": {
     "end_time": "2019-11-23T00:18:30.689415Z",
     "start_time": "2019-11-23T00:18:30.660352Z"
    }
   },
   "outputs": [],
   "source": [
    "df = pd.read_csv('dream_market_cocaine_listings.csv')"
   ]
  },
  {
   "cell_type": "code",
   "execution_count": 153,
   "metadata": {
    "ExecuteTime": {
     "end_time": "2019-11-23T00:18:32.183048Z",
     "start_time": "2019-11-23T00:18:32.159353Z"
    }
   },
   "outputs": [
    {
     "data": {
      "text/html": [
       "<div>\n",
       "<style scoped>\n",
       "    .dataframe tbody tr th:only-of-type {\n",
       "        vertical-align: middle;\n",
       "    }\n",
       "\n",
       "    .dataframe tbody tr th {\n",
       "        vertical-align: top;\n",
       "    }\n",
       "\n",
       "    .dataframe thead th {\n",
       "        text-align: right;\n",
       "    }\n",
       "</style>\n",
       "<table border=\"1\" class=\"dataframe\">\n",
       "  <thead>\n",
       "    <tr style=\"text-align: right;\">\n",
       "      <th></th>\n",
       "      <th>Unnamed: 0</th>\n",
       "      <th>product_title</th>\n",
       "      <th>ships_from_to</th>\n",
       "      <th>grams</th>\n",
       "      <th>quality</th>\n",
       "      <th>btc_price</th>\n",
       "      <th>cost_per_gram</th>\n",
       "      <th>cost_per_gram_pure</th>\n",
       "      <th>escrow</th>\n",
       "      <th>product_link</th>\n",
       "      <th>...</th>\n",
       "      <th>ships_to_SE</th>\n",
       "      <th>ships_from_SE</th>\n",
       "      <th>ships_to_CO</th>\n",
       "      <th>ships_from_CO</th>\n",
       "      <th>ships_to_CN</th>\n",
       "      <th>ships_from_CN</th>\n",
       "      <th>ships_to_PL</th>\n",
       "      <th>ships_from_PL</th>\n",
       "      <th>ships_to_GR</th>\n",
       "      <th>ships_from_GR</th>\n",
       "    </tr>\n",
       "  </thead>\n",
       "  <tbody>\n",
       "    <tr>\n",
       "      <td>0</td>\n",
       "      <td>10</td>\n",
       "      <td>!!!!!INTRO OFFER!!!!! 1GR COCAINE 90%</td>\n",
       "      <td>NL  → EU</td>\n",
       "      <td>1.0</td>\n",
       "      <td>90.0</td>\n",
       "      <td>0.02577</td>\n",
       "      <td>0.02577</td>\n",
       "      <td>0.028633</td>\n",
       "      <td>1</td>\n",
       "      <td>http://lchudifyeqm4ldjj.onion/viewProduct?offe...</td>\n",
       "      <td>...</td>\n",
       "      <td>False</td>\n",
       "      <td>False</td>\n",
       "      <td>False</td>\n",
       "      <td>False</td>\n",
       "      <td>False</td>\n",
       "      <td>False</td>\n",
       "      <td>False</td>\n",
       "      <td>False</td>\n",
       "      <td>False</td>\n",
       "      <td>False</td>\n",
       "    </tr>\n",
       "    <tr>\n",
       "      <td>1</td>\n",
       "      <td>11</td>\n",
       "      <td>!!!!!INTRO OFFER!!!!! 2GR COCAINE 90%</td>\n",
       "      <td>NL  → EU</td>\n",
       "      <td>2.0</td>\n",
       "      <td>90.0</td>\n",
       "      <td>0.05150</td>\n",
       "      <td>0.02575</td>\n",
       "      <td>0.028611</td>\n",
       "      <td>1</td>\n",
       "      <td>http://lchudifyeqm4ldjj.onion/viewProduct?offe...</td>\n",
       "      <td>...</td>\n",
       "      <td>False</td>\n",
       "      <td>False</td>\n",
       "      <td>False</td>\n",
       "      <td>False</td>\n",
       "      <td>False</td>\n",
       "      <td>False</td>\n",
       "      <td>False</td>\n",
       "      <td>False</td>\n",
       "      <td>False</td>\n",
       "      <td>False</td>\n",
       "    </tr>\n",
       "    <tr>\n",
       "      <td>2</td>\n",
       "      <td>14</td>\n",
       "      <td>!!!INTRO!!! 0.5G COCAINE 89% - STRAIGHT FROM T...</td>\n",
       "      <td>NL  → EU</td>\n",
       "      <td>0.5</td>\n",
       "      <td>89.0</td>\n",
       "      <td>0.01649</td>\n",
       "      <td>0.03298</td>\n",
       "      <td>0.037056</td>\n",
       "      <td>1</td>\n",
       "      <td>http://lchudifyeqm4ldjj.onion/viewProduct?offe...</td>\n",
       "      <td>...</td>\n",
       "      <td>False</td>\n",
       "      <td>False</td>\n",
       "      <td>False</td>\n",
       "      <td>False</td>\n",
       "      <td>False</td>\n",
       "      <td>False</td>\n",
       "      <td>False</td>\n",
       "      <td>False</td>\n",
       "      <td>False</td>\n",
       "      <td>False</td>\n",
       "    </tr>\n",
       "    <tr>\n",
       "      <td>3</td>\n",
       "      <td>20</td>\n",
       "      <td>!1G! C O L O M B I A N C O C A I N E - 89% PURITY</td>\n",
       "      <td>FR  → EU</td>\n",
       "      <td>1.0</td>\n",
       "      <td>89.0</td>\n",
       "      <td>0.04120</td>\n",
       "      <td>0.04120</td>\n",
       "      <td>0.046292</td>\n",
       "      <td>1</td>\n",
       "      <td>http://lchudifyeqm4ldjj.onion/viewProduct?offe...</td>\n",
       "      <td>...</td>\n",
       "      <td>False</td>\n",
       "      <td>False</td>\n",
       "      <td>False</td>\n",
       "      <td>False</td>\n",
       "      <td>False</td>\n",
       "      <td>False</td>\n",
       "      <td>False</td>\n",
       "      <td>False</td>\n",
       "      <td>False</td>\n",
       "      <td>False</td>\n",
       "    </tr>\n",
       "    <tr>\n",
       "      <td>4</td>\n",
       "      <td>41</td>\n",
       "      <td>** 1 Gram 87% Pure Uncut Colombian Cocaine **</td>\n",
       "      <td>NL  → WW</td>\n",
       "      <td>1.0</td>\n",
       "      <td>87.0</td>\n",
       "      <td>0.03400</td>\n",
       "      <td>0.03400</td>\n",
       "      <td>0.039080</td>\n",
       "      <td>1</td>\n",
       "      <td>http://lchudifyeqm4ldjj.onion/viewProduct?offe...</td>\n",
       "      <td>...</td>\n",
       "      <td>False</td>\n",
       "      <td>False</td>\n",
       "      <td>False</td>\n",
       "      <td>False</td>\n",
       "      <td>False</td>\n",
       "      <td>False</td>\n",
       "      <td>False</td>\n",
       "      <td>False</td>\n",
       "      <td>False</td>\n",
       "      <td>False</td>\n",
       "    </tr>\n",
       "  </tbody>\n",
       "</table>\n",
       "<p>5 rows × 64 columns</p>\n",
       "</div>"
      ],
      "text/plain": [
       "   Unnamed: 0                                      product_title  \\\n",
       "0          10              !!!!!INTRO OFFER!!!!! 1GR COCAINE 90%   \n",
       "1          11              !!!!!INTRO OFFER!!!!! 2GR COCAINE 90%   \n",
       "2          14  !!!INTRO!!! 0.5G COCAINE 89% - STRAIGHT FROM T...   \n",
       "3          20  !1G! C O L O M B I A N C O C A I N E - 89% PURITY   \n",
       "4          41      ** 1 Gram 87% Pure Uncut Colombian Cocaine **   \n",
       "\n",
       "  ships_from_to  grams  quality  btc_price  cost_per_gram  cost_per_gram_pure  \\\n",
       "0      NL  → EU    1.0     90.0    0.02577        0.02577            0.028633   \n",
       "1      NL  → EU    2.0     90.0    0.05150        0.02575            0.028611   \n",
       "2      NL  → EU    0.5     89.0    0.01649        0.03298            0.037056   \n",
       "3      FR  → EU    1.0     89.0    0.04120        0.04120            0.046292   \n",
       "4      NL  → WW    1.0     87.0    0.03400        0.03400            0.039080   \n",
       "\n",
       "   escrow                                       product_link  ... ships_to_SE  \\\n",
       "0       1  http://lchudifyeqm4ldjj.onion/viewProduct?offe...  ...       False   \n",
       "1       1  http://lchudifyeqm4ldjj.onion/viewProduct?offe...  ...       False   \n",
       "2       1  http://lchudifyeqm4ldjj.onion/viewProduct?offe...  ...       False   \n",
       "3       1  http://lchudifyeqm4ldjj.onion/viewProduct?offe...  ...       False   \n",
       "4       1  http://lchudifyeqm4ldjj.onion/viewProduct?offe...  ...       False   \n",
       "\n",
       "  ships_from_SE  ships_to_CO  ships_from_CO ships_to_CN ships_from_CN  \\\n",
       "0         False        False          False       False         False   \n",
       "1         False        False          False       False         False   \n",
       "2         False        False          False       False         False   \n",
       "3         False        False          False       False         False   \n",
       "4         False        False          False       False         False   \n",
       "\n",
       "   ships_to_PL  ships_from_PL  ships_to_GR  ships_from_GR  \n",
       "0        False          False        False          False  \n",
       "1        False          False        False          False  \n",
       "2        False          False        False          False  \n",
       "3        False          False        False          False  \n",
       "4        False          False        False          False  \n",
       "\n",
       "[5 rows x 64 columns]"
      ]
     },
     "execution_count": 153,
     "metadata": {},
     "output_type": "execute_result"
    }
   ],
   "source": [
    "df.head()"
   ]
  },
  {
   "cell_type": "code",
   "execution_count": 154,
   "metadata": {
    "ExecuteTime": {
     "end_time": "2019-11-23T00:18:33.485844Z",
     "start_time": "2019-11-23T00:18:33.480501Z"
    }
   },
   "outputs": [
    {
     "data": {
      "text/plain": [
       "Index(['Unnamed: 0', 'product_title', 'ships_from_to', 'grams', 'quality',\n",
       "       'btc_price', 'cost_per_gram', 'cost_per_gram_pure', 'escrow',\n",
       "       'product_link', 'vendor_link', 'vendor_name', 'successful_transactions',\n",
       "       'rating', 'ships_from', 'ships_to', 'ships_to_US', 'ships_from_US',\n",
       "       'ships_to_NL', 'ships_from_NL', 'ships_to_FR', 'ships_from_FR',\n",
       "       'ships_to_GB', 'ships_from_GB', 'ships_to_CA', 'ships_from_CA',\n",
       "       'ships_to_DE', 'ships_from_DE', 'ships_to_AU', 'ships_from_AU',\n",
       "       'ships_to_EU', 'ships_from_EU', 'ships_to_ES', 'ships_from_ES',\n",
       "       'ships_to_N. America', 'ships_from_N. America', 'ships_to_BE',\n",
       "       'ships_from_BE', 'ships_to_WW', 'ships_from_WW', 'ships_to_SI',\n",
       "       'ships_from_SI', 'ships_to_IT', 'ships_from_IT', 'ships_to_DK',\n",
       "       'ships_from_DK', 'ships_to_S. America', 'ships_from_S. America',\n",
       "       'ships_to_CH', 'ships_from_CH', 'ships_to_BR', 'ships_from_BR',\n",
       "       'ships_to_CZ', 'ships_from_CZ', 'ships_to_SE', 'ships_from_SE',\n",
       "       'ships_to_CO', 'ships_from_CO', 'ships_to_CN', 'ships_from_CN',\n",
       "       'ships_to_PL', 'ships_from_PL', 'ships_to_GR', 'ships_from_GR'],\n",
       "      dtype='object')"
      ]
     },
     "execution_count": 154,
     "metadata": {},
     "output_type": "execute_result"
    }
   ],
   "source": [
    "df.columns"
   ]
  },
  {
   "cell_type": "code",
   "execution_count": 155,
   "metadata": {
    "ExecuteTime": {
     "end_time": "2019-11-23T00:18:35.130011Z",
     "start_time": "2019-11-23T00:18:35.107832Z"
    }
   },
   "outputs": [],
   "source": [
    "# Cleaning Data\n",
    "\n",
    "# Drop columns w/ strings (both product_title & product_link)\n",
    "cleaned_df = df.drop(['Unnamed: 0','product_title','product_link','ships_from_to','ships_to'\n",
    "                      ,'ships_from','vendor_link','vendor_name'], axis=1)\n",
    "\n",
    "# Convert True/False values to 1s/0s\n",
    "cleaned_df = cleaned_df*1\n"
   ]
  },
  {
   "cell_type": "code",
   "execution_count": 156,
   "metadata": {
    "ExecuteTime": {
     "end_time": "2019-11-23T00:18:36.507502Z",
     "start_time": "2019-11-23T00:18:36.478416Z"
    }
   },
   "outputs": [
    {
     "data": {
      "text/html": [
       "<div>\n",
       "<style scoped>\n",
       "    .dataframe tbody tr th:only-of-type {\n",
       "        vertical-align: middle;\n",
       "    }\n",
       "\n",
       "    .dataframe tbody tr th {\n",
       "        vertical-align: top;\n",
       "    }\n",
       "\n",
       "    .dataframe thead th {\n",
       "        text-align: right;\n",
       "    }\n",
       "</style>\n",
       "<table border=\"1\" class=\"dataframe\">\n",
       "  <thead>\n",
       "    <tr style=\"text-align: right;\">\n",
       "      <th></th>\n",
       "      <th>grams</th>\n",
       "      <th>quality</th>\n",
       "      <th>btc_price</th>\n",
       "      <th>cost_per_gram</th>\n",
       "      <th>cost_per_gram_pure</th>\n",
       "      <th>escrow</th>\n",
       "      <th>successful_transactions</th>\n",
       "      <th>rating</th>\n",
       "      <th>ships_to_US</th>\n",
       "      <th>ships_from_US</th>\n",
       "      <th>...</th>\n",
       "      <th>ships_to_SE</th>\n",
       "      <th>ships_from_SE</th>\n",
       "      <th>ships_to_CO</th>\n",
       "      <th>ships_from_CO</th>\n",
       "      <th>ships_to_CN</th>\n",
       "      <th>ships_from_CN</th>\n",
       "      <th>ships_to_PL</th>\n",
       "      <th>ships_from_PL</th>\n",
       "      <th>ships_to_GR</th>\n",
       "      <th>ships_from_GR</th>\n",
       "    </tr>\n",
       "  </thead>\n",
       "  <tbody>\n",
       "    <tr>\n",
       "      <td>0</td>\n",
       "      <td>1.0</td>\n",
       "      <td>90.0</td>\n",
       "      <td>0.02577</td>\n",
       "      <td>0.02577</td>\n",
       "      <td>0.028633</td>\n",
       "      <td>1</td>\n",
       "      <td>90</td>\n",
       "      <td>4.63</td>\n",
       "      <td>0</td>\n",
       "      <td>0</td>\n",
       "      <td>...</td>\n",
       "      <td>0</td>\n",
       "      <td>0</td>\n",
       "      <td>0</td>\n",
       "      <td>0</td>\n",
       "      <td>0</td>\n",
       "      <td>0</td>\n",
       "      <td>0</td>\n",
       "      <td>0</td>\n",
       "      <td>0</td>\n",
       "      <td>0</td>\n",
       "    </tr>\n",
       "    <tr>\n",
       "      <td>1</td>\n",
       "      <td>2.0</td>\n",
       "      <td>90.0</td>\n",
       "      <td>0.05150</td>\n",
       "      <td>0.02575</td>\n",
       "      <td>0.028611</td>\n",
       "      <td>1</td>\n",
       "      <td>90</td>\n",
       "      <td>4.63</td>\n",
       "      <td>0</td>\n",
       "      <td>0</td>\n",
       "      <td>...</td>\n",
       "      <td>0</td>\n",
       "      <td>0</td>\n",
       "      <td>0</td>\n",
       "      <td>0</td>\n",
       "      <td>0</td>\n",
       "      <td>0</td>\n",
       "      <td>0</td>\n",
       "      <td>0</td>\n",
       "      <td>0</td>\n",
       "      <td>0</td>\n",
       "    </tr>\n",
       "    <tr>\n",
       "      <td>2</td>\n",
       "      <td>0.5</td>\n",
       "      <td>89.0</td>\n",
       "      <td>0.01649</td>\n",
       "      <td>0.03298</td>\n",
       "      <td>0.037056</td>\n",
       "      <td>1</td>\n",
       "      <td>620</td>\n",
       "      <td>4.94</td>\n",
       "      <td>0</td>\n",
       "      <td>0</td>\n",
       "      <td>...</td>\n",
       "      <td>0</td>\n",
       "      <td>0</td>\n",
       "      <td>0</td>\n",
       "      <td>0</td>\n",
       "      <td>0</td>\n",
       "      <td>0</td>\n",
       "      <td>0</td>\n",
       "      <td>0</td>\n",
       "      <td>0</td>\n",
       "      <td>0</td>\n",
       "    </tr>\n",
       "    <tr>\n",
       "      <td>3</td>\n",
       "      <td>1.0</td>\n",
       "      <td>89.0</td>\n",
       "      <td>0.04120</td>\n",
       "      <td>0.04120</td>\n",
       "      <td>0.046292</td>\n",
       "      <td>1</td>\n",
       "      <td>15</td>\n",
       "      <td>5.00</td>\n",
       "      <td>0</td>\n",
       "      <td>0</td>\n",
       "      <td>...</td>\n",
       "      <td>0</td>\n",
       "      <td>0</td>\n",
       "      <td>0</td>\n",
       "      <td>0</td>\n",
       "      <td>0</td>\n",
       "      <td>0</td>\n",
       "      <td>0</td>\n",
       "      <td>0</td>\n",
       "      <td>0</td>\n",
       "      <td>0</td>\n",
       "    </tr>\n",
       "    <tr>\n",
       "      <td>4</td>\n",
       "      <td>1.0</td>\n",
       "      <td>87.0</td>\n",
       "      <td>0.03400</td>\n",
       "      <td>0.03400</td>\n",
       "      <td>0.039080</td>\n",
       "      <td>1</td>\n",
       "      <td>28</td>\n",
       "      <td>4.78</td>\n",
       "      <td>0</td>\n",
       "      <td>0</td>\n",
       "      <td>...</td>\n",
       "      <td>0</td>\n",
       "      <td>0</td>\n",
       "      <td>0</td>\n",
       "      <td>0</td>\n",
       "      <td>0</td>\n",
       "      <td>0</td>\n",
       "      <td>0</td>\n",
       "      <td>0</td>\n",
       "      <td>0</td>\n",
       "      <td>0</td>\n",
       "    </tr>\n",
       "    <tr>\n",
       "      <td>...</td>\n",
       "      <td>...</td>\n",
       "      <td>...</td>\n",
       "      <td>...</td>\n",
       "      <td>...</td>\n",
       "      <td>...</td>\n",
       "      <td>...</td>\n",
       "      <td>...</td>\n",
       "      <td>...</td>\n",
       "      <td>...</td>\n",
       "      <td>...</td>\n",
       "      <td>...</td>\n",
       "      <td>...</td>\n",
       "      <td>...</td>\n",
       "      <td>...</td>\n",
       "      <td>...</td>\n",
       "      <td>...</td>\n",
       "      <td>...</td>\n",
       "      <td>...</td>\n",
       "      <td>...</td>\n",
       "      <td>...</td>\n",
       "      <td>...</td>\n",
       "    </tr>\n",
       "    <tr>\n",
       "      <td>1499</td>\n",
       "      <td>3000.0</td>\n",
       "      <td>92.0</td>\n",
       "      <td>43.20000</td>\n",
       "      <td>0.01440</td>\n",
       "      <td>0.015652</td>\n",
       "      <td>0</td>\n",
       "      <td>360</td>\n",
       "      <td>4.86</td>\n",
       "      <td>1</td>\n",
       "      <td>0</td>\n",
       "      <td>...</td>\n",
       "      <td>0</td>\n",
       "      <td>0</td>\n",
       "      <td>0</td>\n",
       "      <td>0</td>\n",
       "      <td>0</td>\n",
       "      <td>0</td>\n",
       "      <td>0</td>\n",
       "      <td>0</td>\n",
       "      <td>0</td>\n",
       "      <td>0</td>\n",
       "    </tr>\n",
       "    <tr>\n",
       "      <td>1500</td>\n",
       "      <td>500.0</td>\n",
       "      <td>92.0</td>\n",
       "      <td>9.27000</td>\n",
       "      <td>0.01854</td>\n",
       "      <td>0.020152</td>\n",
       "      <td>0</td>\n",
       "      <td>360</td>\n",
       "      <td>4.86</td>\n",
       "      <td>1</td>\n",
       "      <td>0</td>\n",
       "      <td>...</td>\n",
       "      <td>0</td>\n",
       "      <td>0</td>\n",
       "      <td>0</td>\n",
       "      <td>0</td>\n",
       "      <td>0</td>\n",
       "      <td>0</td>\n",
       "      <td>0</td>\n",
       "      <td>0</td>\n",
       "      <td>0</td>\n",
       "      <td>0</td>\n",
       "    </tr>\n",
       "    <tr>\n",
       "      <td>1501</td>\n",
       "      <td>50.0</td>\n",
       "      <td>92.0</td>\n",
       "      <td>1.10800</td>\n",
       "      <td>0.02216</td>\n",
       "      <td>0.024087</td>\n",
       "      <td>0</td>\n",
       "      <td>360</td>\n",
       "      <td>4.86</td>\n",
       "      <td>1</td>\n",
       "      <td>0</td>\n",
       "      <td>...</td>\n",
       "      <td>0</td>\n",
       "      <td>0</td>\n",
       "      <td>0</td>\n",
       "      <td>0</td>\n",
       "      <td>0</td>\n",
       "      <td>0</td>\n",
       "      <td>0</td>\n",
       "      <td>0</td>\n",
       "      <td>0</td>\n",
       "      <td>0</td>\n",
       "    </tr>\n",
       "    <tr>\n",
       "      <td>1502</td>\n",
       "      <td>5.0</td>\n",
       "      <td>92.0</td>\n",
       "      <td>0.12360</td>\n",
       "      <td>0.02472</td>\n",
       "      <td>0.026870</td>\n",
       "      <td>0</td>\n",
       "      <td>360</td>\n",
       "      <td>4.86</td>\n",
       "      <td>1</td>\n",
       "      <td>0</td>\n",
       "      <td>...</td>\n",
       "      <td>0</td>\n",
       "      <td>0</td>\n",
       "      <td>0</td>\n",
       "      <td>0</td>\n",
       "      <td>0</td>\n",
       "      <td>0</td>\n",
       "      <td>0</td>\n",
       "      <td>0</td>\n",
       "      <td>0</td>\n",
       "      <td>0</td>\n",
       "    </tr>\n",
       "    <tr>\n",
       "      <td>1503</td>\n",
       "      <td>750.0</td>\n",
       "      <td>92.0</td>\n",
       "      <td>12.75000</td>\n",
       "      <td>0.01700</td>\n",
       "      <td>0.018478</td>\n",
       "      <td>0</td>\n",
       "      <td>360</td>\n",
       "      <td>4.86</td>\n",
       "      <td>1</td>\n",
       "      <td>0</td>\n",
       "      <td>...</td>\n",
       "      <td>0</td>\n",
       "      <td>0</td>\n",
       "      <td>0</td>\n",
       "      <td>0</td>\n",
       "      <td>0</td>\n",
       "      <td>0</td>\n",
       "      <td>0</td>\n",
       "      <td>0</td>\n",
       "      <td>0</td>\n",
       "      <td>0</td>\n",
       "    </tr>\n",
       "  </tbody>\n",
       "</table>\n",
       "<p>1504 rows × 56 columns</p>\n",
       "</div>"
      ],
      "text/plain": [
       "       grams  quality  btc_price  cost_per_gram  cost_per_gram_pure  escrow  \\\n",
       "0        1.0     90.0    0.02577        0.02577            0.028633       1   \n",
       "1        2.0     90.0    0.05150        0.02575            0.028611       1   \n",
       "2        0.5     89.0    0.01649        0.03298            0.037056       1   \n",
       "3        1.0     89.0    0.04120        0.04120            0.046292       1   \n",
       "4        1.0     87.0    0.03400        0.03400            0.039080       1   \n",
       "...      ...      ...        ...            ...                 ...     ...   \n",
       "1499  3000.0     92.0   43.20000        0.01440            0.015652       0   \n",
       "1500   500.0     92.0    9.27000        0.01854            0.020152       0   \n",
       "1501    50.0     92.0    1.10800        0.02216            0.024087       0   \n",
       "1502     5.0     92.0    0.12360        0.02472            0.026870       0   \n",
       "1503   750.0     92.0   12.75000        0.01700            0.018478       0   \n",
       "\n",
       "      successful_transactions  rating  ships_to_US  ships_from_US  ...  \\\n",
       "0                          90    4.63            0              0  ...   \n",
       "1                          90    4.63            0              0  ...   \n",
       "2                         620    4.94            0              0  ...   \n",
       "3                          15    5.00            0              0  ...   \n",
       "4                          28    4.78            0              0  ...   \n",
       "...                       ...     ...          ...            ...  ...   \n",
       "1499                      360    4.86            1              0  ...   \n",
       "1500                      360    4.86            1              0  ...   \n",
       "1501                      360    4.86            1              0  ...   \n",
       "1502                      360    4.86            1              0  ...   \n",
       "1503                      360    4.86            1              0  ...   \n",
       "\n",
       "      ships_to_SE  ships_from_SE  ships_to_CO  ships_from_CO  ships_to_CN  \\\n",
       "0               0              0            0              0            0   \n",
       "1               0              0            0              0            0   \n",
       "2               0              0            0              0            0   \n",
       "3               0              0            0              0            0   \n",
       "4               0              0            0              0            0   \n",
       "...           ...            ...          ...            ...          ...   \n",
       "1499            0              0            0              0            0   \n",
       "1500            0              0            0              0            0   \n",
       "1501            0              0            0              0            0   \n",
       "1502            0              0            0              0            0   \n",
       "1503            0              0            0              0            0   \n",
       "\n",
       "      ships_from_CN  ships_to_PL  ships_from_PL  ships_to_GR  ships_from_GR  \n",
       "0                 0            0              0            0              0  \n",
       "1                 0            0              0            0              0  \n",
       "2                 0            0              0            0              0  \n",
       "3                 0            0              0            0              0  \n",
       "4                 0            0              0            0              0  \n",
       "...             ...          ...            ...          ...            ...  \n",
       "1499              0            0              0            0              0  \n",
       "1500              0            0              0            0              0  \n",
       "1501              0            0              0            0              0  \n",
       "1502              0            0              0            0              0  \n",
       "1503              0            0              0            0              0  \n",
       "\n",
       "[1504 rows x 56 columns]"
      ]
     },
     "execution_count": 156,
     "metadata": {},
     "output_type": "execute_result"
    }
   ],
   "source": [
    "cleaned_df"
   ]
  },
  {
   "cell_type": "code",
   "execution_count": 157,
   "metadata": {
    "ExecuteTime": {
     "end_time": "2019-11-23T00:18:37.758436Z",
     "start_time": "2019-11-23T00:18:37.754253Z"
    }
   },
   "outputs": [],
   "source": [
    "# Feature engineering & dropping irrelevant features\n",
    "\n",
    "cleaned_df = cleaned_df.drop(['cost_per_gram','cost_per_gram_pure'], axis=1)"
   ]
  },
  {
   "cell_type": "code",
   "execution_count": 158,
   "metadata": {
    "ExecuteTime": {
     "end_time": "2019-11-23T00:18:38.870098Z",
     "start_time": "2019-11-23T00:18:38.865456Z"
    }
   },
   "outputs": [],
   "source": [
    "# Grabbing y's\n",
    "y = cleaned_df.btc_price\n",
    "\n",
    "# Dropping the y column from original dataframe\n",
    "cleaned_df = cleaned_df.drop(\"btc_price\", axis=1)"
   ]
  },
  {
   "cell_type": "code",
   "execution_count": 159,
   "metadata": {
    "ExecuteTime": {
     "end_time": "2019-11-23T00:18:40.401322Z",
     "start_time": "2019-11-23T00:18:40.396044Z"
    }
   },
   "outputs": [],
   "source": [
    "# Split data\n",
    "X_train, X_test, y_train, y_test = train_test_split(cleaned_df, y, test_size=0.2, random_state=42)"
   ]
  },
  {
   "cell_type": "markdown",
   "metadata": {},
   "source": [
    "Fit scikit-learn model\n",
    "----"
   ]
  },
  {
   "cell_type": "code",
   "execution_count": 160,
   "metadata": {
    "ExecuteTime": {
     "end_time": "2019-11-23T00:18:42.686508Z",
     "start_time": "2019-11-23T00:18:42.677421Z"
    }
   },
   "outputs": [
    {
     "data": {
      "text/plain": [
       "LinearRegression(copy_X=True, fit_intercept=True, n_jobs=None, normalize=False)"
      ]
     },
     "execution_count": 160,
     "metadata": {},
     "output_type": "execute_result"
    }
   ],
   "source": [
    "# Fit simple LR\n",
    "lm = LinearRegression() # Instantiate model\n",
    "lm.fit(X_train, y_train) # Train model"
   ]
  },
  {
   "cell_type": "markdown",
   "metadata": {},
   "source": [
    "Evaluation Metric\n",
    "----"
   ]
  },
  {
   "cell_type": "code",
   "execution_count": 161,
   "metadata": {
    "ExecuteTime": {
     "end_time": "2019-11-23T00:18:44.953877Z",
     "start_time": "2019-11-23T00:18:44.947318Z"
    }
   },
   "outputs": [
    {
     "name": "stdout",
     "output_type": "stream",
     "text": [
      "0.1276 medae on training set\n"
     ]
    }
   ],
   "source": [
    "medae_value = metrics.median_absolute_error(y_train, lm.predict(X_train))\n",
    "print(f\"{medae_value:.4f} medae on training set\")"
   ]
  },
  {
   "cell_type": "code",
   "execution_count": 162,
   "metadata": {
    "ExecuteTime": {
     "end_time": "2019-11-23T00:18:46.780793Z",
     "start_time": "2019-11-23T00:18:46.772902Z"
    }
   },
   "outputs": [
    {
     "data": {
      "text/plain": [
       "0.8064435883097785"
      ]
     },
     "execution_count": 162,
     "metadata": {},
     "output_type": "execute_result"
    }
   ],
   "source": [
    "lm.score(X_test,y_test)"
   ]
  },
  {
   "cell_type": "code",
   "execution_count": null,
   "metadata": {},
   "outputs": [],
   "source": []
  }
 ],
 "metadata": {
  "kernelspec": {
   "display_name": "Python 3",
   "language": "python",
   "name": "python3"
  },
  "language_info": {
   "codemirror_mode": {
    "name": "ipython",
    "version": 3
   },
   "file_extension": ".py",
   "mimetype": "text/x-python",
   "name": "python",
   "nbconvert_exporter": "python",
   "pygments_lexer": "ipython3",
   "version": "3.6.9"
  },
  "toc": {
   "base_numbering": 1,
   "nav_menu": {},
   "number_sections": false,
   "sideBar": false,
   "skip_h1_title": false,
   "title_cell": "Table of Contents",
   "title_sidebar": "Contents",
   "toc_cell": true,
   "toc_position": {},
   "toc_section_display": true,
   "toc_window_display": false
  },
  "varInspector": {
   "cols": {
    "lenName": 16,
    "lenType": 16,
    "lenVar": 40
   },
   "kernels_config": {
    "python": {
     "delete_cmd_postfix": "",
     "delete_cmd_prefix": "del ",
     "library": "var_list.py",
     "varRefreshCmd": "print(var_dic_list())"
    },
    "r": {
     "delete_cmd_postfix": ") ",
     "delete_cmd_prefix": "rm(",
     "library": "var_list.r",
     "varRefreshCmd": "cat(var_dic_list()) "
    }
   },
   "types_to_exclude": [
    "module",
    "function",
    "builtin_function_or_method",
    "instance",
    "_Feature"
   ],
   "window_display": false
  }
 },
 "nbformat": 4,
 "nbformat_minor": 4
}
